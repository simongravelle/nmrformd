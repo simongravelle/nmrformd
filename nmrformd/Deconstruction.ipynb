{
 "cells": [
  {
   "cell_type": "code",
   "execution_count": 10,
   "metadata": {},
   "outputs": [],
   "source": [
    "import random\n",
    "import MDAnalysis as mda\n",
    "\n",
    "import numpy as np\n",
    "from scipy import constants as cst\n",
    "from scipy.interpolate import interp1d\n",
    "from scipy.special import sph_harm\n",
    "\n",
    "from utilities import correlation_function, find_nearest, fourier_transform"
   ]
  },
  {
   "cell_type": "code",
   "execution_count": 11,
   "metadata": {},
   "outputs": [],
   "source": [
    "hydrogen_per_atom=1.0\n",
    "spin=1/2"
   ]
  },
  {
   "cell_type": "markdown",
   "metadata": {},
   "source": [
    "Import universe"
   ]
  },
  {
   "cell_type": "code",
   "execution_count": 50,
   "metadata": {},
   "outputs": [],
   "source": [
    "u = mda.Universe(\"../tests/bulk_h2o/topology.tpr\", \"../tests/bulk_h2o/trajectory.xtc\")\n",
    "\n",
    "group_i = \"type HW and index 0:20\"\n",
    "group_j = \"type HW and index 0:20\"\n",
    "type_analysis = \"full\"\n",
    "number_i = 20\n",
    "order = \"m0\""
   ]
  },
  {
   "cell_type": "code",
   "execution_count": 51,
   "metadata": {},
   "outputs": [],
   "source": [
    "target_i = \"type HW\"\n",
    "neighbor_j = \"type HW\""
   ]
  },
  {
   "cell_type": "markdown",
   "metadata": {},
   "source": [
    "Define constant"
   ]
  },
  {
   "cell_type": "code",
   "execution_count": 52,
   "metadata": {},
   "outputs": [],
   "source": [
    "GAMMA = 2 * np.pi * 42.6e6  # gyromagnetic constant in Hz/T\n",
    "        \n",
    "K = (3 / 2) * (cst.mu_0 / 4 / np.pi) ** 2 * cst.hbar ** 2 * GAMMA ** 4 * spin * (1 + spin)  # m6/s2"
   ]
  },
  {
   "cell_type": "markdown",
   "metadata": {},
   "source": [
    "Read universe"
   ]
  },
  {
   "cell_type": "code",
   "execution_count": 53,
   "metadata": {},
   "outputs": [],
   "source": [
    "group_target_i = u.select_atoms(target_i)\n",
    "assert group_target_i.atoms.n_atoms > 0, \"empty target group i\"\n",
    "group_neighbor_j = u.select_atoms(neighbor_j)\n",
    "assert group_neighbor_j.atoms.n_atoms > 0, \"empty neighbor group j\""
   ]
  },
  {
   "cell_type": "markdown",
   "metadata": {},
   "source": [
    "Select target"
   ]
  },
  {
   "cell_type": "code",
   "execution_count": 54,
   "metadata": {},
   "outputs": [],
   "source": [
    "if number_i == 0:\n",
    "    index_i = np.array(group_target_i.atoms.indices)\n",
    "elif number_i > group_target_i.atoms.n_atoms:\n",
    "    print('number_i larger than the number of atom in group target i, all atoms selected')\n",
    "    index_i = np.array(group_target_i.atoms.indices)\n",
    "else:\n",
    "    index_i = np.array(random.choices(group_target_i.atoms.indices, k=number_i))"
   ]
  },
  {
   "cell_type": "markdown",
   "metadata": {},
   "source": [
    "Select Proton"
   ]
  },
  {
   "cell_type": "code",
   "execution_count": 56,
   "metadata": {},
   "outputs": [],
   "source": [
    "def _initialise_data(self):\n",
    "    assert (order == \"m0\") | (order == \"m012\"), \\\n",
    "        'Unknown value for order, choose m0 or m012.'\n",
    "    if order == \"m0\":\n",
    "        data = np.zeros((1, u.trajectory.n_frames,\n",
    "                                group_j.atoms.n_atoms),\n",
    "                                dtype=np.float32)\n",
    "        gij = np.zeros((1,  u.trajectory.n_frames),\n",
    "                            dtype=np.float32)\n",
    "    elif order == \"m012\":\n",
    "        data = np.zeros((3, u.trajectory.n_frames,\n",
    "                                group_j.atoms.n_atoms),\n",
    "                                dtype=np.complex64)\n",
    "        gij = np.zeros((3, u.trajectory.n_frames),\n",
    "                            dtype=np.float32)\n",
    "    if actual_dt == 0:\n",
    "        t = np.arange(u.trajectory.n_frames) \\\n",
    "            * np.round(u.trajectory.dt, 4)\n",
    "    else:\n",
    "        t = np.arange(u.trajectory.n_frames) \\\n",
    "            * np.round(actual_dt, 4)"
   ]
  },
  {
   "cell_type": "code",
   "execution_count": 57,
   "metadata": {},
   "outputs": [
    {
     "ename": "NameError",
     "evalue": "name '_select_proton' is not defined",
     "output_type": "error",
     "traceback": [
      "\u001b[0;31m---------------------------------------------------------------------------\u001b[0m",
      "\u001b[0;31mNameError\u001b[0m                                 Traceback (most recent call last)",
      "\u001b[0;32m<ipython-input-57-36e33e032fd3>\u001b[0m in \u001b[0;36m<module>\u001b[0;34m\u001b[0m\n\u001b[1;32m      2\u001b[0m     \u001b[0mcpt_i\u001b[0m \u001b[0;34m=\u001b[0m \u001b[0mcpt_i\u001b[0m\u001b[0;34m\u001b[0m\u001b[0;34m\u001b[0m\u001b[0m\n\u001b[1;32m      3\u001b[0m     \u001b[0mi\u001b[0m \u001b[0;34m=\u001b[0m \u001b[0mi\u001b[0m\u001b[0;34m\u001b[0m\u001b[0;34m\u001b[0m\u001b[0m\n\u001b[0;32m----> 4\u001b[0;31m     \u001b[0m_select_proton\u001b[0m\u001b[0;34m(\u001b[0m\u001b[0;34m)\u001b[0m\u001b[0;34m\u001b[0m\u001b[0;34m\u001b[0m\u001b[0m\n\u001b[0m\u001b[1;32m      5\u001b[0m     \u001b[0;32mif\u001b[0m \u001b[0mcpt_i\u001b[0m \u001b[0;34m==\u001b[0m \u001b[0;36m0\u001b[0m\u001b[0;34m:\u001b[0m\u001b[0;34m\u001b[0m\u001b[0;34m\u001b[0m\u001b[0m\n\u001b[1;32m      6\u001b[0m         \u001b[0m_initialise_data\u001b[0m\u001b[0;34m(\u001b[0m\u001b[0;34m)\u001b[0m\u001b[0;34m\u001b[0m\u001b[0;34m\u001b[0m\u001b[0m\n",
      "\u001b[0;31mNameError\u001b[0m: name '_select_proton' is not defined"
     ]
    }
   ],
   "source": [
    "for cpt_i, i in enumerate(index_i):\n",
    "    cpt_i = cpt_i\n",
    "    i = i\n",
    "    _select_proton()\n",
    "    if cpt_i == 0:\n",
    "        _initialise_data()\n",
    "    _evaluate_correlation_ij()"
   ]
  },
  {
   "cell_type": "code",
   "execution_count": 55,
   "metadata": {},
   "outputs": [
    {
     "ename": "NameError",
     "evalue": "name 'cpt_i' is not defined",
     "output_type": "error",
     "traceback": [
      "\u001b[0;31m---------------------------------------------------------------------------\u001b[0m",
      "\u001b[0;31mNameError\u001b[0m                                 Traceback (most recent call last)",
      "\u001b[0;32m<ipython-input-55-462e91d96551>\u001b[0m in \u001b[0;36m<module>\u001b[0;34m\u001b[0m\n\u001b[1;32m      1\u001b[0m \u001b[0;32massert\u001b[0m \u001b[0;34m(\u001b[0m\u001b[0mtype_analysis\u001b[0m \u001b[0;34m==\u001b[0m \u001b[0;34m\"inter_molecular\"\u001b[0m\u001b[0;34m)\u001b[0m \u001b[0;34m|\u001b[0m \u001b[0;34m(\u001b[0m\u001b[0mtype_analysis\u001b[0m \u001b[0;34m==\u001b[0m \u001b[0;34m\"intra_molecular\"\u001b[0m\u001b[0;34m)\u001b[0m \u001b[0;34m|\u001b[0m \u001b[0;34m(\u001b[0m\u001b[0mtype_analysis\u001b[0m \u001b[0;34m==\u001b[0m \u001b[0;34m\"full\"\u001b[0m\u001b[0;34m)\u001b[0m\u001b[0;34m\u001b[0m\u001b[0;34m\u001b[0m\u001b[0m\n\u001b[1;32m      2\u001b[0m \u001b[0;34m\u001b[0m\u001b[0m\n\u001b[0;32m----> 3\u001b[0;31m \u001b[0mgroup_i\u001b[0m \u001b[0;34m=\u001b[0m \u001b[0mu\u001b[0m\u001b[0;34m.\u001b[0m\u001b[0mselect_atoms\u001b[0m\u001b[0;34m(\u001b[0m\u001b[0;34m'index '\u001b[0m \u001b[0;34m+\u001b[0m \u001b[0mstr\u001b[0m\u001b[0;34m(\u001b[0m\u001b[0mindex_i\u001b[0m\u001b[0;34m[\u001b[0m\u001b[0mcpt_i\u001b[0m\u001b[0;34m]\u001b[0m\u001b[0;34m)\u001b[0m\u001b[0;34m)\u001b[0m\u001b[0;34m\u001b[0m\u001b[0;34m\u001b[0m\u001b[0m\n\u001b[0m\u001b[1;32m      4\u001b[0m \u001b[0mresids_i\u001b[0m \u001b[0;34m=\u001b[0m \u001b[0mgroup_i\u001b[0m\u001b[0;34m.\u001b[0m\u001b[0mresids\u001b[0m\u001b[0;34m[\u001b[0m\u001b[0mgroup_i\u001b[0m\u001b[0;34m.\u001b[0m\u001b[0matoms\u001b[0m\u001b[0;34m.\u001b[0m\u001b[0mindices\u001b[0m \u001b[0;34m==\u001b[0m \u001b[0mindex_i\u001b[0m\u001b[0;34m[\u001b[0m\u001b[0mcpt_i\u001b[0m\u001b[0;34m]\u001b[0m\u001b[0;34m]\u001b[0m\u001b[0;34m\u001b[0m\u001b[0;34m\u001b[0m\u001b[0m\n\u001b[1;32m      5\u001b[0m \u001b[0;34m\u001b[0m\u001b[0m\n",
      "\u001b[0;31mNameError\u001b[0m: name 'cpt_i' is not defined"
     ]
    }
   ],
   "source": [
    "assert (type_analysis == \"inter_molecular\") | (type_analysis == \"intra_molecular\") | (type_analysis == \"full\")\n",
    "\n",
    "group_i = u.select_atoms('index ' + str(index_i[cpt_i]))\n",
    "resids_i = group_i.resids[group_i.atoms.indices == index_i[cpt_i]]\n",
    "\n",
    "if type_analysis == \"intra_molecular\":\n",
    "    index_j = \\\n",
    "        group_neighbor_j.atoms.indices[(group_neighbor_j.resids == resids_i) & (group_neighbor_j.indices != index_i[cpt_i])]\n",
    "    str_j = ' '.join(str(e) for e in index_j)\n",
    "    group_j = u.select_atoms('index ' + str_j)\n",
    "elif type_analysis == \"inter_molecular\":\n",
    "    index_j = \\\n",
    "        group_neighbor_j.atoms.indices[group_neighbor_j.resids != resids_i]\n",
    "    str_j = ' '.join(str(e) for e in index_j)\n",
    "    group_j = u.select_atoms('index ' + str_j)\n",
    "elif type_analysis == \"full\":\n",
    "    index_j = \\\n",
    "        group_neighbor_j.atoms.indices[group_neighbor_j.indices != index_i[cpt_i]]\n",
    "    str_j = ' '.join(str(e) for e in index_j)\n",
    "    group_j = u.select_atoms('index ' + str_j)"
   ]
  },
  {
   "cell_type": "code",
   "execution_count": null,
   "metadata": {},
   "outputs": [],
   "source": [
    "    def _select_proton(self):\n"
   ]
  }
 ],
 "metadata": {
  "kernelspec": {
   "display_name": "Python 3.8.10 64-bit",
   "language": "python",
   "name": "python3"
  },
  "language_info": {
   "codemirror_mode": {
    "name": "ipython",
    "version": 3
   },
   "file_extension": ".py",
   "mimetype": "text/x-python",
   "name": "python",
   "nbconvert_exporter": "python",
   "pygments_lexer": "ipython3",
   "version": "3.8.10"
  },
  "vscode": {
   "interpreter": {
    "hash": "916dbcbb3f70747c44a77c7bcd40155683ae19c65e1c03b4aa3499c5328201f1"
   }
  }
 },
 "nbformat": 4,
 "nbformat_minor": 4
}
