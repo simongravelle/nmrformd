{
 "cells": [
  {
   "attachments": {},
   "cell_type": "markdown",
   "metadata": {},
   "source": [
    "# Create a MDAnalysis universe"
   ]
  },
  {
   "cell_type": "code",
   "execution_count": 1,
   "metadata": {},
   "outputs": [],
   "source": [
    "import numpy as np\n",
    "import os\n",
    "import MDAnalysis as mda\n",
    "import nmrformd as nmrmd"
   ]
  },
  {
   "cell_type": "code",
   "execution_count": 2,
   "metadata": {},
   "outputs": [],
   "source": [
    "from matplotlib import pyplot as plt"
   ]
  },
  {
   "cell_type": "code",
   "execution_count": 3,
   "metadata": {},
   "outputs": [],
   "source": [
    "plt.rcParams.update({\n",
    "    \"text.usetex\": True,\n",
    "    \"font.family\": \"serif\",\n",
    "    \"font.serif\": [\"Palatino\"],\n",
    "})\n",
    "fontsize = 30\n",
    "font = {'family': 'sans', 'color':  'black', 'weight': 'normal', 'size': fontsize}\n",
    "myblue = [0/ 255, 150/255, 177/ 255]\n",
    "lightgray = [0.1, 0.1, 0.1]\n",
    "darkgray = [0.9, 0.9, 0.9]\n",
    "myred= [255/ 255, 77/255, 77/ 255]"
   ]
  },
  {
   "cell_type": "code",
   "execution_count": 4,
   "metadata": {},
   "outputs": [],
   "source": [
    "import sys\n",
    "sys.path.append('../../examples/shared/')\n",
    "from tools import figure_improvement, save_figure"
   ]
  },
  {
   "cell_type": "code",
   "execution_count": 6,
   "metadata": {},
   "outputs": [],
   "source": [
    "R = np.linspace(myred[0], myblue[0], len(numbers_mol))\n",
    "G = np.linspace(myred[1], myblue[1], len(numbers_mol))\n",
    "B = np.linspace(myred[2], myblue[2], len(numbers_mol))\n",
    "grad = np.vstack([R, G, B]).T"
   ]
  },
  {
   "cell_type": "code",
   "execution_count": 7,
   "metadata": {},
   "outputs": [
    {
     "name": "stdout",
     "output_type": "stream",
     "text": [
      "steps = 1 , dt = 1.0\n"
     ]
    }
   ],
   "source": [
    "intra_correlation = []\n",
    "intra_spectrum = []\n",
    "inter_correlation = []\n",
    "inter_spectrum = []\n",
    "scalar_properties = []\n",
    "for step in [1, 2, 4, 8, 16, 32]:\n",
    "    u = mda.Universe(\"_N3000-gromacs/run.tpr\",\n",
    "                    \"_N3000-gromacs/run.xtc\")\n",
    "    u.transfer_to_memory(step = step)\n",
    "    group_i = u.select_atoms(\"type HW\")\n",
    "    dt = np.round(u.trajectory.dt,1)\n",
    "    # Run NMRforMD\n",
    "    print(\"steps =\", step, \", dt =\", dt)\n",
    "    nmr_intra = nmrmd.NMR(u, group_i, isotropic=True, type_analysis=\"intra_molecular\", number_i=100)\n",
    "    T1_intra = np.round(nmr_intra.T1,2)\n",
    "    T1_intra_av = np.round(np.mean(np.round(1/nmr_intra.R1[:10],2)),2)\n",
    "    intra_spectrum.append(np.vstack([nmr_intra.f, nmr_intra.R1]))\n",
    "    intra_correlation.append(np.vstack([nmr_intra.t, nmr_intra.gij[0]]))\n",
    "    nmr_inter = nmrmd.NMR(u, group_i, isotropic=True, type_analysis=\"inter_molecular\", number_i=100)\n",
    "    T1_inter = np.round(nmr_inter.T1,2)\n",
    "    T1_inter_av = np.round(np.mean(np.round(1/nmr_inter.R1[:10],2)),2)\n",
    "    print(f\"The NMR relaxation time is T1-inter = {T1_inter_av} s, and T1-inter = {T1_intra_av} s\")\n",
    "    inter_spectrum.append(np.vstack([nmr_inter.f, nmr_inter.R1]))\n",
    "    inter_correlation.append(np.vstack([nmr_inter.t, nmr_inter.gij[0]]))\n",
    "    scalar_properties.append([step, T1_intra, T1_intra_av, T1_inter, T1_inter_av])\n",
    "    print(\"-------------------------------------------------------------------\")\n",
    "    np.savetxt(\"dumping-frequency-evaluation/intra_spectrum\"+str(dt)+\".dat\", np.vstack([nmr_intra.f, nmr_intra.R1]).T)\n",
    "    np.savetxt(\"dumping-frequency-evaluation/inter_spectrum\"+str(dt)+\".dat\", np.vstack([nmr_inter.f, nmr_inter.R1]).T)\n",
    "    np.savetxt(\"dumping-frequency-evaluation/intra_correlation\"+str(dt)+\".dat\", np.vstack([nmr_intra.t, nmr_intra.gij[0]]).T)\n",
    "    np.savetxt(\"dumping-frequency-evaluation/inter_correlation\"+str(dt)+\".dat\", np.vstack([nmr_inter.t, nmr_inter.gij[0]]).T)"
   ]
  },
  {
   "cell_type": "code",
   "execution_count": 18,
   "metadata": {},
   "outputs": [
    {
     "data": {
      "text/plain": [
       "16.0"
      ]
     },
     "execution_count": 18,
     "metadata": {},
     "output_type": "execute_result"
    }
   ],
   "source": []
  },
  {
   "cell_type": "code",
   "execution_count": 8,
   "metadata": {},
   "outputs": [
    {
     "data": {
      "text/plain": [
       "1001"
      ]
     },
     "execution_count": 8,
     "metadata": {},
     "output_type": "execute_result"
    }
   ],
   "source": [
    "u.trajectory.n_frames"
   ]
  },
  {
   "cell_type": "code",
   "execution_count": null,
   "metadata": {},
   "outputs": [],
   "source": []
  },
  {
   "cell_type": "code",
   "execution_count": 42,
   "metadata": {},
   "outputs": [
    {
     "name": "stdout",
     "output_type": "stream",
     "text": [
      "The number of water molecules is 25\n",
      "--------------------------------\n",
      "Note : number_i is larger than the number of atoms in group target i\n",
      "-> All the atoms of the group i have been selected\n",
      "The NMR relaxation time is T1-intra = 10.237 s\n",
      "Note : number_i is larger than the number of atoms in group target i\n",
      "-> All the atoms of the group i have been selected\n",
      "The NMR relaxation time is T1-inter = 11.449 s\n",
      "--------------------------------\n",
      "--------------------------------\n",
      "--------------------------------\n",
      "The number of water molecules is 34\n",
      "--------------------------------\n",
      "Note : number_i is larger than the number of atoms in group target i\n",
      "-> All the atoms of the group i have been selected\n"
     ]
    },
    {
     "name": "stderr",
     "output_type": "stream",
     "text": [
      "/home/simon/.local/lib/python3.10/site-packages/MDAnalysis/coordinates/XDR.py:241: UserWarning: Reload offsets from trajectory\n",
      " ctime or size or n_atoms did not match\n",
      "  warnings.warn(\"Reload offsets from trajectory\\n \"\n"
     ]
    }
   ],
   "source": [
    "intra_correlation = []\n",
    "intra_spectrum = []\n",
    "inter_correlation = []\n",
    "inter_spectrum = []\n",
    "scalar_properties = []\n",
    "for number_mol in numbers_mol:\n",
    "    u = None\n",
    "    data_lammps = \"_N\"+str(number_mol)+\"-lammps/\"\n",
    "    data_gromacs = \"_N\"+str(number_mol)+\"-gromacs/\"\n",
    "    if os.path.exists(data_lammps+\"topology.data\"):\n",
    "        u = mda.Universe(data_lammps+\"topology.data\", data_lammps+\"traj.xtc\")\n",
    "        group_i = u.select_atoms(\"type 2\")\n",
    "        folder = data_lammps\n",
    "    elif os.path.exists(data_gromacs+\"run.tpr\"):\n",
    "        u = mda.Universe(data_gromacs+\"run.tpr\", data_gromacs+\"run.xtc\")\n",
    "        group_i = u.select_atoms(\"type HW\")\n",
    "        folder = data_gromacs\n",
    "    if u is not None:\n",
    "        timestep = np.int32(u.trajectory.dt)\n",
    "        total_time = np.int32(u.trajectory.totaltime)\n",
    "        n_molecules = u.atoms.n_residues\n",
    "        assert n_molecules == number_mol\n",
    "        v_box = np.round(np.prod(u.dimensions[:3]) / 1000,1)\n",
    "        print(f\"The number of water molecules is {n_molecules}\")\n",
    "        print(\"--------------------------------\")\n",
    "        # Run NMRforMD\n",
    "        nmr_intra = nmrmd.NMR(u, group_i, isotropic=True, type_analysis=\"intra_molecular\", number_i=100)\n",
    "        T1_intra = np.round(nmr_intra.T1,2)\n",
    "        T1_intra_av = np.mean(np.round(1/nmr_intra.R1[:10],2))\n",
    "        print(f\"The NMR relaxation time is T1-intra = {T1_intra_av} s\")\n",
    "        intra_spectrum.append(np.vstack([nmr_intra.f, nmr_intra.R1]))\n",
    "        intra_correlation.append(np.vstack([nmr_intra.t, nmr_intra.gij[0]]))\n",
    "        nmr_inter = nmrmd.NMR(u, group_i, isotropic=True, type_analysis=\"inter_molecular\", number_i=100)\n",
    "        T1_inter = np.round(nmr_inter.T1,2)\n",
    "        T1_inter_av = np.mean(np.round(1/nmr_inter.R1[:10],2))\n",
    "        print(f\"The NMR relaxation time is T1-inter = {T1_inter_av} s\")\n",
    "        inter_spectrum.append(np.vstack([nmr_inter.f, nmr_inter.R1]))\n",
    "        inter_correlation.append(np.vstack([nmr_inter.t, nmr_inter.gij[0]]))\n",
    "        scalar_properties.append([number_mol, v_box, T1_intra, T1_intra_av, T1_inter, T1_inter_av])\n",
    "        print(\"--------------------------------\")\n",
    "        print(\"--------------------------------\")\n",
    "        print(\"--------------------------------\")\n",
    "        if u.trajectory.n_frames == 4001:\n",
    "            np.savetxt(folder+\"intra_spectrum.dat\", np.vstack([nmr_intra.f, nmr_intra.R1]).T)\n",
    "            np.savetxt(folder+\"inter_spectrum.dat\", np.vstack([nmr_inter.f, nmr_inter.R1]).T)\n",
    "            np.savetxt(folder+\"intra_correlation.dat\", np.vstack([nmr_intra.t, nmr_intra.gij[0]]).T)\n",
    "            np.savetxt(folder+\"inter_correlation.dat\", np.vstack([nmr_inter.t, nmr_inter.gij[0]]).T)"
   ]
  },
  {
   "cell_type": "code",
   "execution_count": 40,
   "metadata": {},
   "outputs": [],
   "source": []
  },
  {
   "cell_type": "code",
   "execution_count": 34,
   "metadata": {},
   "outputs": [
    {
     "data": {
      "text/plain": [
       "11.449"
      ]
     },
     "execution_count": 34,
     "metadata": {},
     "output_type": "execute_result"
    }
   ],
   "source": []
  },
  {
   "cell_type": "code",
   "execution_count": 19,
   "metadata": {},
   "outputs": [
    {
     "data": {
      "text/plain": [
       "[<matplotlib.lines.Line2D at 0x7f8509e50dc0>]"
      ]
     },
     "execution_count": 19,
     "metadata": {},
     "output_type": "execute_result"
    },
    {
     "data": {
      "image/png": "[encoded data removed]",
      "text/plain": [
       "<Figure size 432x288 with 1 Axes>"
      ]
     },
     "metadata": {
      "needs_background": "light"
     },
     "output_type": "display_data"
    }
   ],
   "source": [
    "plt.loglog(nmr_inter.t, nmr_inter.gij[0])"
   ]
  },
  {
   "cell_type": "code",
   "execution_count": 28,
   "metadata": {},
   "outputs": [
    {
     "data": {
      "text/plain": [
       "0.12396093837407296"
      ]
     },
     "execution_count": 28,
     "metadata": {},
     "output_type": "execute_result"
    }
   ],
   "source": [
    "np.mean(nmr_intra.R1[:10])"
   ]
  },
  {
   "cell_type": "code",
   "execution_count": 27,
   "metadata": {},
   "outputs": [
    {
     "data": {
      "text/plain": [
       "[<matplotlib.lines.Line2D at 0x7f850ef4c130>]"
      ]
     },
     "execution_count": 27,
     "metadata": {},
     "output_type": "execute_result"
    },
    {
     "data": {
      "image/png": "[encoded data removed]",
      "text/plain": [
       "<Figure size 432x288 with 1 Axes>"
      ]
     },
     "metadata": {
      "needs_background": "light"
     },
     "output_type": "display_data"
    }
   ],
   "source": [
    "plt.loglog(nmr_inter.f, nmr_inter.R1, 'o')\n",
    "plt.loglog(nmr_inter.f, nmr_intra.R1, 'o')    \n",
    "plt.loglog(nmr_inter.f[:10], nmr_intra.R1[:10], 'o')\n"
   ]
  },
  {
   "cell_type": "code",
   "execution_count": 9,
   "metadata": {},
   "outputs": [
    {
     "data": {
      "text/plain": [
       "[]"
      ]
     },
     "execution_count": 9,
     "metadata": {},
     "output_type": "execute_result"
    }
   ],
   "source": [
    "inter_correlation"
   ]
  },
  {
   "cell_type": "code",
   "execution_count": 8,
   "metadata": {},
   "outputs": [
    {
     "name": "stderr",
     "output_type": "stream",
     "text": [
      "No artists with labels found to put in legend.  Note that artists whose label start with an underscore are ignored when legend() is called with no argument.\n",
      "No artists with labels found to put in legend.  Note that artists whose label start with an underscore are ignored when legend() is called with no argument.\n"
     ]
    },
    {
     "data": {
      "image/png": "[encoded data removed]",
      "text/plain": [
       "<Figure size 1152x576 with 1 Axes>"
      ]
     },
     "metadata": {
      "needs_background": "light"
     },
     "output_type": "display_data"
    },
    {
     "data": {
      "image/png": "[encoded data removed]",
      "text/plain": [
       "<Figure size 1152x576 with 1 Axes>"
      ]
     },
     "metadata": {
      "needs_background": "dark"
     },
     "output_type": "display_data"
    }
   ],
   "source": [
    "for mode, mygray in zip(['light', 'dark'], [lightgray, darkgray]):\n",
    "    fig = plt.figure(figsize=(16, 8))\n",
    "    ax1 = fig.add_subplot(111)\n",
    "    cpt = 0\n",
    "    for inter, intra in zip(inter_correlation, intra_correlation):\n",
    "        ax1.loglog(inter[0], inter[1], 'o', markersize=8, color=grad[cpt])\n",
    "        ax1.loglog(intra[0], intra[1], 's', markersize=8, color=grad[cpt])\n",
    "        cpt += 1\n",
    "    figure_improvement(ax1, mygray, font, fontsize,\n",
    "                       xlabel=r\"$f$ (MHz)\", ylabel=r'$R_1$ (s$^{-1}$)') #,\n",
    "                       #xlim=(5e2, 3e5), ylim=(0.001, 10))\n",
    "    #save_figure(plt, fig, mode, name='T1')"
   ]
  },
  {
   "cell_type": "code",
   "execution_count": null,
   "metadata": {},
   "outputs": [],
   "source": []
  },
  {
   "cell_type": "code",
   "execution_count": null,
   "metadata": {},
   "outputs": [],
   "source": [
    "fig = plt.figure(figsize=(16, 8))\n",
    "ax1 = fig.add_subplot(111)"
   ]
  },
  {
   "cell_type": "code",
   "execution_count": 24,
   "metadata": {},
   "outputs": [
    {
     "data": {
      "text/plain": [
       "[<matplotlib.lines.Line2D at 0x7f7da4d11f00>]"
      ]
     },
     "execution_count": 24,
     "metadata": {},
     "output_type": "execute_result"
    },
    {
     "data": {
      "image/png": "[encoded data removed]",
      "text/plain": [
       "<Figure size 432x288 with 1 Axes>"
      ]
     },
     "metadata": {
      "needs_background": "light"
     },
     "output_type": "display_data"
    }
   ],
   "source": [
    "plt.loglog(nmr_result.f, nmr_result.R1, 'o')"
   ]
  },
  {
   "attachments": {},
   "cell_type": "markdown",
   "metadata": {},
   "source": [
    "# Extract results"
   ]
  },
  {
   "cell_type": "code",
   "execution_count": null,
   "metadata": {},
   "outputs": [],
   "source": [
    "T1 = np.round(nmr_result.T1,2)\n",
    "print(f\"NMR relaxation time T1 = {T1} s\")"
   ]
  },
  {
   "attachments": {},
   "cell_type": "markdown",
   "metadata": {},
   "source": [
    "#### Plot the spectrum\n",
    "\n",
    "Note: here, one figure is made for the light mode of the documentation, the other one for the dark mode"
   ]
  },
  {
   "cell_type": "code",
   "execution_count": 22,
   "metadata": {},
   "outputs": [],
   "source": [
    "from matplotlib import pyplot as plt"
   ]
  },
  {
   "cell_type": "code",
   "execution_count": null,
   "metadata": {},
   "outputs": [],
   "source": [
    "plt.rcParams.update({\n",
    "    \"text.usetex\": True,\n",
    "    \"font.family\": \"serif\",\n",
    "    \"font.serif\": [\"Palatino\"],\n",
    "})\n",
    "fontsize = 30\n",
    "font = {'family': 'sans', 'color':  'black', 'weight': 'normal', 'size': fontsize}\n",
    "myblue = [0/ 255, 150/255, 177/ 255]\n",
    "lightgray = [0.1, 0.1, 0.1]\n",
    "darkgray = [0.9, 0.9, 0.9]\n",
    "myred= [255/ 255, 77/255, 77/ 255]"
   ]
  },
  {
   "cell_type": "code",
   "execution_count": null,
   "metadata": {},
   "outputs": [],
   "source": [
    "import sys\n",
    "sys.path.append('../shared/')\n",
    "from tools import figure_improvement, save_figure"
   ]
  },
  {
   "cell_type": "code",
   "execution_count": null,
   "metadata": {},
   "outputs": [],
   "source": [
    "f_1 = 260\n",
    "for mode, mygray in zip(['light', 'dark'], [lightgray, darkgray]):\n",
    "    fig = plt.figure(figsize=(16, 8))\n",
    "    ax1 = fig.add_subplot(111)\n",
    "    ax1.loglog(nmr_result.f[:-f_1], 1/nmr_result.R1[:-f_1], 'o', markersize=8, color=myblue)\n",
    "    figure_improvement(ax1, mygray, font, fontsize,\n",
    "                       xlabel=r\"$f$ (MHz)\", ylabel=r'$T_1$ (s)',\n",
    "                       xlim=(5e2, 3e5), ylim=(1, 100))\n",
    "    save_figure(plt, fig, mode, name='T1')"
   ]
  },
  {
   "attachments": {},
   "cell_type": "markdown",
   "metadata": {},
   "source": [
    "# Plot the correlation function"
   ]
  },
  {
   "cell_type": "code",
   "execution_count": null,
   "metadata": {},
   "outputs": [],
   "source": [
    "for mode, mygray in zip(['light', 'dark'], [lightgray, darkgray]):\n",
    "    fig = plt.figure(figsize=(16, 8))\n",
    "    ax1 = fig.add_subplot(111)\n",
    "    ax1.loglog(nmr_result.t, nmr_result.gij[0]/nmr_result.gij[0][0], 'o', markersize=8, color=myblue)\n",
    "    figure_improvement(ax1, mygray, font, fontsize,\n",
    "                       xlabel=r\"$t$ (ps)\", ylabel=r'$G^{(0)} (t) / G^{(0)} (0)$',\n",
    "                       xlim=(1, 200), ylim=(0.0001, 1))\n",
    "    save_figure(plt, fig, mode, name='Gij')"
   ]
  },
  {
   "attachments": {},
   "cell_type": "markdown",
   "metadata": {},
   "source": [
    "# Intra/Inter motion"
   ]
  },
  {
   "cell_type": "code",
   "execution_count": null,
   "metadata": {},
   "outputs": [],
   "source": [
    "nmr_result_intra = nmrmd.NMR(u, group_i, type_analysis=\"intra_molecular\", number_i=0)\n",
    "nmr_result_inter = nmrmd.NMR(u, group_i, type_analysis=\"inter_molecular\", number_i=20)"
   ]
  },
  {
   "cell_type": "code",
   "execution_count": null,
   "metadata": {},
   "outputs": [],
   "source": [
    "f_1 = 250\n",
    "for mode, mygray in zip(['light', 'dark'], [lightgray, darkgray]):\n",
    "    fig = plt.figure(figsize=(16, 8))\n",
    "    ax1 = fig.add_subplot(111)\n",
    "    ax1.loglog(nmr_result.f[:-f_1], nmr_result.R1[:-f_1], 'o', markersize=8, color=myblue, label=\"Total\")\n",
    "    ax1.loglog(nmr_result_intra.f[:-f_1], nmr_result_intra.R1[:-f_1], 'o', markersize=8, color=myred, label=\"Intra-molecular\")\n",
    "    ax1.loglog(nmr_result_inter.f[:-f_1], nmr_result_inter.R1[:-f_1], 'o', markersize=8, color=mygray, label=\"Inter-molecular\")\n",
    "    figure_improvement(ax1, mygray, font, fontsize,\n",
    "                       xlabel=r\"$f$ (MHz)\", ylabel=r'$R_1$ (s$^{-1}$)',\n",
    "                       xlim=(5e2, 3e5), ylim=(0.01, 1))\n",
    "    save_figure(plt, fig, mode, name='R1-intra-inter')"
   ]
  },
  {
   "cell_type": "code",
   "execution_count": null,
   "metadata": {},
   "outputs": [],
   "source": [
    "for mode, mygray in zip(['light', 'dark'], [lightgray, darkgray]):\n",
    "    fig = plt.figure(figsize=(16, 8))\n",
    "    ax1 = fig.add_subplot(111)\n",
    "    ax1.loglog(nmr_result.t, nmr_result.gij[0]/nmr_result.gij[0][0], 'o', markersize=8, color=myblue, label=\"Total\")\n",
    "    ax1.loglog(nmr_result_intra.t, nmr_result_intra.gij[0]/nmr_result.gij[0][0], 'o', markersize=8, color=myred, label=\"Intra-molecular\")\n",
    "    ax1.loglog(nmr_result_inter.t, nmr_result_inter.gij[0]/nmr_result.gij[0][0], 'o', markersize=8, color=mygray, label=\"Inter-molecular\")\n",
    "    figure_improvement(ax1, mygray, font, fontsize,\n",
    "                       xlabel=r\"$t$ (ps)\", ylabel=r'$G^{(0)} (t) / G^{(0)} (0)$',\n",
    "                       xlim=(1, 100), ylim=(0.0001, 1))\n",
    "    save_figure(plt, fig, mode, name='Gij-intra-inter')"
   ]
  },
  {
   "attachments": {},
   "cell_type": "markdown",
   "metadata": {},
   "source": [
    "# Proportionality between $G^{m}$ functions"
   ]
  },
  {
   "cell_type": "code",
   "execution_count": null,
   "metadata": {},
   "outputs": [],
   "source": [
    "nmr_aniso = nmrmd.NMR(u, group_i, number_i=80, isotropic=False)"
   ]
  },
  {
   "cell_type": "code",
   "execution_count": null,
   "metadata": {},
   "outputs": [],
   "source": [
    "for mode, mygray in zip(['light', 'dark'], [lightgray, darkgray]):\n",
    "    fig = plt.figure(figsize=(16, 8))\n",
    "    ax1 = fig.add_subplot(111)\n",
    "    ax1.loglog(nmr_aniso.t, nmr_aniso.gij[0]/nmr_aniso.gij[0][0], 'o', markersize=8, color=myblue, label=\"$G^{(0)}(t) / G^{(0)}(0)$\")\n",
    "    ax1.loglog(nmr_aniso.t, 6*nmr_aniso.gij[1]/nmr_aniso.gij[0][0], 'o', markersize=8, color=myred, label=\"$6 G^{(1)}(t) / G^{(0)}(0)$\")\n",
    "    ax1.loglog(nmr_aniso.t, 6*nmr_aniso.gij[2]/nmr_aniso.gij[0][0]/4, 'o', markersize=8, color=mygray, label=\"$6 G^{(2)}(t) / G^{0()}(0) / 4$\")\n",
    "    figure_improvement(ax1, mygray, font, fontsize,\n",
    "                       xlabel=r\"$t$ (ps)\", ylabel=r'$G^{(m)} (t) / G^{(0)} (0)$',\n",
    "                       xlim=(1, 100), ylim=(0.0001, 1))\n",
    "    save_figure(plt, fig, mode, name='Gij-aniso')"
   ]
  }
 ],
 "metadata": {
  "kernelspec": {
   "display_name": "Python 3.8.10 64-bit",
   "language": "python",
   "name": "python3"
  },
  "language_info": {
   "codemirror_mode": {
    "name": "ipython",
    "version": 3
   },
   "file_extension": ".py",
   "mimetype": "text/x-python",
   "name": "python",
   "nbconvert_exporter": "python",
   "pygments_lexer": "ipython3",
   "version": "3.10.6"
  },
  "vscode": {
   "interpreter": {
    "hash": "916dbcbb3f70747c44a77c7bcd40155683ae19c65e1c03b4aa3499c5328201f1"
   }
  }
 },
 "nbformat": 4,
 "nbformat_minor": 4
}
