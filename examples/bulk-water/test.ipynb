{
 "cells": [
  {
   "attachments": {},
   "cell_type": "markdown",
   "metadata": {},
   "source": [
    "# Create a MDAnalysis universe"
   ]
  },
  {
   "cell_type": "code",
   "execution_count": 1,
   "metadata": {},
   "outputs": [],
   "source": [
    "import numpy as np\n",
    "import MDAnalysis as mda\n",
    "import nmrformd as nmrmd"
   ]
  },
  {
   "cell_type": "code",
   "execution_count": 2,
   "metadata": {},
   "outputs": [],
   "source": [
    "datapath = \"./lammps-inputs/\""
   ]
  },
  {
   "cell_type": "code",
   "execution_count": 3,
   "metadata": {},
   "outputs": [],
   "source": [
    "u = mda.Universe(datapath+\"topology.data\", datapath+\"traj.xtc\")"
   ]
  },
  {
   "cell_type": "code",
   "execution_count": 4,
   "metadata": {},
   "outputs": [
    {
     "name": "stdout",
     "output_type": "stream",
     "text": [
      "The number of water molecules is 300\n"
     ]
    }
   ],
   "source": [
    "n_molecules = u.atoms.n_residues\n",
    "print(f\"The number of water molecules is {n_molecules}\")"
   ]
  },
  {
   "cell_type": "code",
   "execution_count": 5,
   "metadata": {},
   "outputs": [
    {
     "name": "stdout",
     "output_type": "stream",
     "text": [
      "The timestep is 1 ps\n"
     ]
    }
   ],
   "source": [
    "timestep = np.int32(u.trajectory.dt)\n",
    "print(f\"The timestep is {timestep} ps\")"
   ]
  },
  {
   "cell_type": "code",
   "execution_count": 6,
   "metadata": {},
   "outputs": [
    {
     "name": "stdout",
     "output_type": "stream",
     "text": [
      "The total simulation time is 1000 ps\n"
     ]
    }
   ],
   "source": [
    "total_time = np.int32(u.trajectory.totaltime)\n",
    "print(f\"The total simulation time is {total_time} ps\")"
   ]
  },
  {
   "attachments": {},
   "cell_type": "markdown",
   "metadata": {},
   "source": [
    "# Run NMRforMD"
   ]
  },
  {
   "cell_type": "code",
   "execution_count": 7,
   "metadata": {},
   "outputs": [],
   "source": [
    "group_i = u.select_atoms(\"type 2\")"
   ]
  },
  {
   "cell_type": "code",
   "execution_count": 13,
   "metadata": {},
   "outputs": [],
   "source": [
    "nmr_result = nmrmd.NMR(u, group_i, number_i=50) # , isotropic=False)"
   ]
  },
  {
   "cell_type": "code",
   "execution_count": 10,
   "metadata": {},
   "outputs": [],
   "source": [
    "from matplotlib import pyplot as plt\n",
    "from scipy.special import sph_harm"
   ]
  },
  {
   "cell_type": "code",
   "execution_count": 16,
   "metadata": {},
   "outputs": [
    {
     "data": {
      "text/plain": [
       "[<matplotlib.lines.Line2D at 0x7f465d5b09a0>]"
      ]
     },
     "execution_count": 16,
     "metadata": {},
     "output_type": "execute_result"
    },
    {
     "data": {
      "image/png": "[encoded data removed]",
      "text/plain": [
       "<Figure size 640x480 with 1 Axes>"
      ]
     },
     "metadata": {},
     "output_type": "display_data"
    }
   ],
   "source": [
    "plt.loglog(nmr_result.t[:100], nmr_result.gij[0][:100]/nmr_result.gij[0][0], '-', linewidth=3)\n",
    "#plt.loglog(nmr_result.t[:100], 6*nmr_result.gij[1][:100]/nmr_result.gij[0][0])\n",
    "#plt.loglog(nmr_result.t[:100], 1.5*nmr_result.gij[2][:100]/nmr_result.gij[0][0])"
   ]
  },
  {
   "cell_type": "code",
   "execution_count": null,
   "metadata": {},
   "outputs": [],
   "source": [
    "            #if m == 0:\n",
    "            #    F_val.append(self.alpha_m[m] * (3*np.cos(self.theta)**2-1) * np.sqrt(5/16/np.pi) / np.power(self.r, 3))\n",
    "            #elif m == 1:\n",
    "            #    F_val.append(self.alpha_m[m] * (- np.exp(self.phi*1j) * np.sin(self.theta) * np.cos(self.theta) * np.sqrt(15/8/np.pi)) / np.power(self.r, 3))\n",
    "            #elif m == 2:\n",
    "            #    F_val.append(self.alpha_m[m] * (np.exp(2*self.phi*1j) * np.sin(self.theta)**2 * np.sqrt(15/32/np.pi)) / np.power(self.r, 3))\n",
    "\n",
    "            #if m == 0:\n",
    "            #    F_val.append((3*np.cos(self.theta)**2-1) / np.power(self.r, 3))\n",
    "            #elif m == 1:\n",
    "            #    F_val.append((-np.exp(self.phi*1j) * np.sin(self.theta) * np.cos(self.theta)) / np.power(self.r, 3))\n",
    "            #elif m == 2:\n",
    "            #    F_val.append((np.exp(self.phi*2j) * np.sin(self.theta)**2) / np.power(self.r, 3))\n",
    "\n",
    "            #if m == 0:\n",
    "            #    F_val.append((((3*self.rij[2]**2)/(self.rij[0]**2+self.rij[1]**2+self.rij[2]**2))-1) / np.power(self.r, 3))\n",
    "            #elif m == 1:\n",
    "            #    F_val.append(((-self.rij[2]*(self.rij[0]+self.rij[1]*1j))/(self.rij[0]**2+self.rij[1]**2+self.rij[2]**2)) / np.power(self.r, 3))\n",
    "            #elif m == 2:\n",
    "            #    F_val.append((((self.rij[0]+self.rij[1]*1j)**2)/(self.rij[0]**2+self.rij[1]**2+self.rij[2]**2)) / np.power(self.r, 3))\n"
   ]
  },
  {
   "cell_type": "code",
   "execution_count": null,
   "metadata": {},
   "outputs": [],
   "source": [
    "\n",
    "# Create a new test for that\n",
    "\n",
    "m = 0\n",
    "theta = np.arange(-np.pi, np.pi, np.pi/1000)\n",
    "phi = theta*0.2\n",
    "\n",
    "plt.plot(theta, sph_harm(m, 2, phi, theta), '.')\n",
    "plt.plot(theta, (3*np.cos(theta)**2-1) * np.sqrt(5/16/np.pi), '-')\n"
   ]
  },
  {
   "cell_type": "code",
   "execution_count": null,
   "metadata": {},
   "outputs": [],
   "source": [
    "m = 1\n",
    "theta = np.arange(-2*np.pi, 2*np.pi, np.pi/1000)\n",
    "phi = theta*0.2\n",
    "\n",
    "plt.plot(theta/np.pi, np.real(sph_harm(m, 2, phi, theta)), '.')\n",
    "#plt.plot(theta/np.pi, np.real(- np.exp(phi*1j) * np.sin(2*theta) * np.sqrt(30/8/np.pi)), '-')\n",
    "plt.plot(theta/np.pi, np.real(np.exp(phi*1j) * np.sin(theta) * np.cos(theta) * np.sqrt(15/8/np.pi)), '-')"
   ]
  },
  {
   "cell_type": "code",
   "execution_count": null,
   "metadata": {},
   "outputs": [],
   "source": [
    "m = 2\n",
    "theta = np.arange(-2*np.pi, 2*np.pi, np.pi/1000)\n",
    "phi = theta*0.2\n",
    "\n",
    "plt.plot(theta/np.pi, np.real(sph_harm(m, 2, phi, theta)), '.')\n",
    "plt.plot(theta/np.pi, np.real(np.exp(phi*2j) * np.sin(theta)**2 * np.sqrt(15/32/np.pi)), '-')"
   ]
  },
  {
   "cell_type": "code",
   "execution_count": null,
   "metadata": {},
   "outputs": [],
   "source": [
    "sph_harm(m, 2, phi, theta)[-2]"
   ]
  },
  {
   "cell_type": "code",
   "execution_count": null,
   "metadata": {},
   "outputs": [],
   "source": [
    "(- np.exp(phi*1j) * np.sin(theta) * np.cos(theta) * np.sqrt(15/8/np.pi))[-2]"
   ]
  },
  {
   "cell_type": "code",
   "execution_count": null,
   "metadata": {},
   "outputs": [],
   "source": []
  },
  {
   "cell_type": "code",
   "execution_count": null,
   "metadata": {},
   "outputs": [],
   "source": []
  },
  {
   "cell_type": "code",
   "execution_count": null,
   "metadata": {},
   "outputs": [],
   "source": []
  },
  {
   "cell_type": "code",
   "execution_count": null,
   "metadata": {},
   "outputs": [],
   "source": [
    "from scipy.special import legendre\n",
    "\n",
    "legendre(3)"
   ]
  },
  {
   "cell_type": "code",
   "execution_count": null,
   "metadata": {},
   "outputs": [],
   "source": [
    "%matplotlib inline\n",
    "from __future__ import division\n",
    "import scipy as sci\n",
    "import scipy.special as sp\n",
    "import numpy as np\n",
    "import matplotlib\n",
    "import matplotlib.pyplot as plt\n",
    "from mpl_toolkits.mplot3d import Axes3D\n",
    "from matplotlib import cm, colors\n",
    "from matplotlib.colors import LinearSegmentedColormap"
   ]
  },
  {
   "cell_type": "code",
   "execution_count": null,
   "metadata": {},
   "outputs": [],
   "source": [
    "l = 1    #degree\n",
    "m = 0    # order\n",
    "PHI, THETA = np.mgrid[0:2*np.pi:200j, 0:np.pi:100j] #arrays of angular variables\n",
    "R = np.abs(sp.sph_harm(m, l, PHI, THETA)) #Array with the absolute values of Ylm\n",
    "#Now we convert to cartesian coordinates\n",
    "# for the 3D representation\n",
    "X = R * np.sin(THETA) * np.cos(PHI)\n",
    "Y = R * np.sin(THETA) * np.sin(PHI)\n",
    "Z = R * np.cos(THETA)\n",
    "\n",
    "N = R/R.max()    # Normalize R for the plot colors to cover the entire range of colormap.\n",
    "fig, ax = plt.subplots(subplot_kw=dict(projection='3d'), figsize=(12,10))\n",
    "im = ax.plot_surface(X, Y, Z, rstride=1, cstride=1, facecolors=cm.jet(N))\n",
    "ax.set_title(r'$|Y^0_ 1|$', fontsize=20)\n",
    "m = cm.ScalarMappable(cmap=cm.jet)\n",
    "m.set_array(R)    # Assign the unnormalized data array to the mappable\n",
    "                  #so that the scale corresponds to the values of R\n",
    "fig.colorbar(m, shrink=0.8);"
   ]
  },
  {
   "cell_type": "code",
   "execution_count": null,
   "metadata": {},
   "outputs": [],
   "source": []
  },
  {
   "cell_type": "code",
   "execution_count": null,
   "metadata": {},
   "outputs": [],
   "source": []
  },
  {
   "cell_type": "code",
   "execution_count": null,
   "metadata": {},
   "outputs": [],
   "source": []
  },
  {
   "cell_type": "code",
   "execution_count": null,
   "metadata": {},
   "outputs": [],
   "source": []
  },
  {
   "cell_type": "code",
   "execution_count": null,
   "metadata": {},
   "outputs": [],
   "source": []
  },
  {
   "attachments": {},
   "cell_type": "markdown",
   "metadata": {},
   "source": [
    "# Extract results"
   ]
  },
  {
   "cell_type": "code",
   "execution_count": 14,
   "metadata": {},
   "outputs": [
    {
     "name": "stdout",
     "output_type": "stream",
     "text": [
      "NMR relaxation time T1 = 2.43 s\n"
     ]
    }
   ],
   "source": [
    "T1 = np.round(nmr_result.T1,2)\n",
    "print(f\"NMR relaxation time T1 = {T1} s\")"
   ]
  },
  {
   "attachments": {},
   "cell_type": "markdown",
   "metadata": {},
   "source": [
    "#### Plot the spectrum\n",
    "\n",
    "Note: here, one figure is made for the light mode of the documentation, the other one for the dark mode"
   ]
  },
  {
   "cell_type": "code",
   "execution_count": null,
   "metadata": {},
   "outputs": [],
   "source": [
    "from matplotlib import pyplot as plt"
   ]
  },
  {
   "cell_type": "code",
   "execution_count": null,
   "metadata": {},
   "outputs": [],
   "source": [
    "plt.rcParams.update({\n",
    "    \"text.usetex\": True,\n",
    "    \"font.family\": \"serif\",\n",
    "    \"font.serif\": [\"Palatino\"],\n",
    "})\n",
    "fontsize = 30\n",
    "font = {'family': 'sans', 'color':  'black', 'weight': 'normal', 'size': fontsize}\n",
    "myblue = [0/ 255, 150/255, 177/ 255]\n",
    "lightgray = [0.1, 0.1, 0.1]\n",
    "darkgray = [0.9, 0.9, 0.9]\n",
    "myred= [255/ 255, 77/255, 77/ 255]"
   ]
  },
  {
   "cell_type": "code",
   "execution_count": null,
   "metadata": {},
   "outputs": [],
   "source": [
    "import sys\n",
    "sys.path.append('../shared/')\n",
    "from tools import figure_improvement, save_figure"
   ]
  },
  {
   "cell_type": "code",
   "execution_count": null,
   "metadata": {},
   "outputs": [],
   "source": [
    "for mode, mygray in zip(['light', 'dark'], [lightgray, darkgray]):\n",
    "    fig = plt.figure(figsize=(16, 8))\n",
    "    ax1 = fig.add_subplot(111)\n",
    "    ax1.loglog(nmr_result.f[:-60], 1/nmr_result.R1[:-60], 'o', markersize=8, color=myblue)\n",
    "    figure_improvement(ax1, mygray, font, fontsize,\n",
    "                       xlabel=r\"$f$ (MHz)\", ylabel=r'$T_1$ (s)',\n",
    "                       xlim=(5e2, 3e5), ylim=(1, 100))\n",
    "    save_figure(plt, fig, mode, name='T1')"
   ]
  },
  {
   "attachments": {},
   "cell_type": "markdown",
   "metadata": {},
   "source": [
    "# Plot the correlation function"
   ]
  },
  {
   "cell_type": "code",
   "execution_count": null,
   "metadata": {},
   "outputs": [],
   "source": [
    "for mode, mygray in zip(['light', 'dark'], [lightgray, darkgray]):\n",
    "    fig = plt.figure(figsize=(16, 8))\n",
    "    ax1 = fig.add_subplot(111)\n",
    "    ax1.loglog(nmr_result.t[:-20], nmr_result.gij[0][:-20], 'o', markersize=8, color=myblue)\n",
    "    figure_improvement(ax1, mygray, font, fontsize,\n",
    "                       xlabel=r\"$t$ (ps)\", ylabel=r'$G$ (m$^{-6}$)',\n",
    "                       xlim=(1, 100), ylim=(1e7, 1e11))\n",
    "    save_figure(plt, fig, mode, name='Gij')"
   ]
  },
  {
   "attachments": {},
   "cell_type": "markdown",
   "metadata": {},
   "source": [
    "# Intra/Inter motion"
   ]
  },
  {
   "cell_type": "code",
   "execution_count": null,
   "metadata": {},
   "outputs": [],
   "source": [
    "nmr_result_intra = nmrmd.NMR(u, group_i, type_analysis=\"intra_molecular\", number_i=0)\n",
    "nmr_result_inter = nmrmd.NMR(u, group_i, type_analysis=\"inter_molecular\", number_i=20)"
   ]
  },
  {
   "cell_type": "code",
   "execution_count": null,
   "metadata": {},
   "outputs": [],
   "source": [
    "for mode, mygray in zip(['light', 'dark'], [lightgray, darkgray]):\n",
    "    fig = plt.figure(figsize=(16, 8))\n",
    "    ax1 = fig.add_subplot(111)\n",
    "    ax1.loglog(nmr_result.f[:-60], nmr_result.R1[:-60], 'o', markersize=8, color=myblue, label=\"Total\")\n",
    "    ax1.loglog(nmr_result_intra.f[:-60], nmr_result_intra.R1[:-60], 'o', markersize=8, color=myred, label=\"Intra-molecular\")\n",
    "    ax1.loglog(nmr_result_inter.f[:-60], nmr_result_inter.R1[:-60], 'o', markersize=8, color=mygray, label=\"Inter-molecular\")\n",
    "    figure_improvement(ax1, mygray, font, fontsize,\n",
    "                       xlabel=r\"$f$ (MHz)\", ylabel=r'$R_1$ (s$^{-1}$)',\n",
    "                       xlim=(5e2, 3e5), ylim=(0.01, 1))\n",
    "    save_figure(plt, fig, mode, name='R1-intra-inter')"
   ]
  },
  {
   "cell_type": "code",
   "execution_count": null,
   "metadata": {},
   "outputs": [],
   "source": [
    "for mode, mygray in zip(['light', 'dark'], [lightgray, darkgray]):\n",
    "    fig = plt.figure(figsize=(16, 8))\n",
    "    ax1 = fig.add_subplot(111)\n",
    "    ax1.loglog(nmr_result.t, nmr_result.gij[0], 'o', markersize=8, color=myblue, label=\"Total\")\n",
    "    ax1.loglog(nmr_result_intra.t, nmr_result_intra.gij[0], 'o', markersize=8, color=myred, label=\"Intra-molecular\")\n",
    "    ax1.loglog(nmr_result_inter.t, nmr_result_inter.gij[0], 'o', markersize=8, color=mygray, label=\"Inter-molecular\")\n",
    "    figure_improvement(ax1, mygray, font, fontsize,\n",
    "                       xlabel=r\"$t$ (ps)\", ylabel=r'$G$ (m$^{-6}$)',\n",
    "                       xlim=(1, 100), ylim=(1e7, 1e11))\n",
    "    save_figure(plt, fig, mode, name='Gij-intra-inter')"
   ]
  }
 ],
 "metadata": {
  "kernelspec": {
   "display_name": "Python 3.8.10 64-bit",
   "language": "python",
   "name": "python3"
  },
  "language_info": {
   "codemirror_mode": {
    "name": "ipython",
    "version": 3
   },
   "file_extension": ".py",
   "mimetype": "text/x-python",
   "name": "python",
   "nbconvert_exporter": "python",
   "pygments_lexer": "ipython3",
   "version": "3.10.7"
  },
  "vscode": {
   "interpreter": {
    "hash": "916dbcbb3f70747c44a77c7bcd40155683ae19c65e1c03b4aa3499c5328201f1"
   }
  }
 },
 "nbformat": 4,
 "nbformat_minor": 4
}
