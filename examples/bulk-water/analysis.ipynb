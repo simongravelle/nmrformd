{
 "cells": [
  {
   "attachments": {},
   "cell_type": "markdown",
   "metadata": {},
   "source": [
    "# Create a MDAnalysis universe"
   ]
  },
  {
   "cell_type": "code",
   "execution_count": null,
   "metadata": {},
   "outputs": [],
   "source": [
    "import numpy as np\n",
    "import MDAnalysis as mda\n",
    "import nmrformd as nmrmd"
   ]
  },
  {
   "cell_type": "code",
   "execution_count": null,
   "metadata": {},
   "outputs": [],
   "source": [
    "datapath = \"./lammps-inputs/\""
   ]
  },
  {
   "cell_type": "code",
   "execution_count": null,
   "metadata": {},
   "outputs": [],
   "source": [
    "u = mda.Universe(datapath+\"topology.data\", datapath+\"traj.xtc\")"
   ]
  },
  {
   "cell_type": "code",
   "execution_count": null,
   "metadata": {},
   "outputs": [],
   "source": [
    "n_molecules = u.atoms.n_residues\n",
    "print(f\"The number of water molecules is {n_molecules}\")"
   ]
  },
  {
   "cell_type": "code",
   "execution_count": null,
   "metadata": {},
   "outputs": [],
   "source": [
    "timestep = np.int32(u.trajectory.dt)\n",
    "print(f\"The timestep is {timestep} ps\")"
   ]
  },
  {
   "cell_type": "code",
   "execution_count": null,
   "metadata": {},
   "outputs": [],
   "source": [
    "total_time = np.int32(u.trajectory.totaltime)\n",
    "print(f\"The total simulation time is {total_time} ps\")"
   ]
  },
  {
   "attachments": {},
   "cell_type": "markdown",
   "metadata": {},
   "source": [
    "# Run NMRforMD"
   ]
  },
  {
   "cell_type": "code",
   "execution_count": null,
   "metadata": {},
   "outputs": [],
   "source": [
    "group_i = u.select_atoms(\"type 2\")"
   ]
  },
  {
   "cell_type": "code",
   "execution_count": null,
   "metadata": {},
   "outputs": [],
   "source": [
    "nmr_result = nmrmd.NMR(u, group_i, number_i=80)"
   ]
  },
  {
   "attachments": {},
   "cell_type": "markdown",
   "metadata": {},
   "source": [
    "# Extract results"
   ]
  },
  {
   "cell_type": "code",
   "execution_count": null,
   "metadata": {},
   "outputs": [],
   "source": [
    "T1 = np.round(nmr_result.T1,2)\n",
    "print(f\"NMR relaxation time T1 = {T1} s\")"
   ]
  },
  {
   "attachments": {},
   "cell_type": "markdown",
   "metadata": {},
   "source": [
    "#### Plot the spectrum\n",
    "\n",
    "Note: here, one figure is made for the light mode of the documentation, the other one for the dark mode"
   ]
  },
  {
   "cell_type": "code",
   "execution_count": null,
   "metadata": {},
   "outputs": [],
   "source": [
    "from matplotlib import pyplot as plt"
   ]
  },
  {
   "cell_type": "code",
   "execution_count": null,
   "metadata": {},
   "outputs": [],
   "source": [
    "plt.rcParams.update({\n",
    "    \"text.usetex\": True,\n",
    "    \"font.family\": \"serif\",\n",
    "    \"font.serif\": [\"Palatino\"],\n",
    "})\n",
    "fontsize = 30\n",
    "font = {'family': 'sans', 'color':  'black', 'weight': 'normal', 'size': fontsize}\n",
    "myblue = [0/ 255, 150/255, 177/ 255]\n",
    "lightgray = [0.1, 0.1, 0.1]\n",
    "darkgray = [0.9, 0.9, 0.9]\n",
    "myred= [255/ 255, 77/255, 77/ 255]"
   ]
  },
  {
   "cell_type": "code",
   "execution_count": null,
   "metadata": {},
   "outputs": [],
   "source": [
    "import sys\n",
    "sys.path.append('../shared/')\n",
    "from tools import figure_improvement, save_figure"
   ]
  },
  {
   "cell_type": "code",
   "execution_count": null,
   "metadata": {},
   "outputs": [],
   "source": [
    "f_1 = 260\n",
    "for mode, mygray in zip(['light', 'dark'], [lightgray, darkgray]):\n",
    "    fig = plt.figure(figsize=(16, 8))\n",
    "    ax1 = fig.add_subplot(111)\n",
    "    ax1.loglog(nmr_result.f[:-f_1], 1/nmr_result.R1[:-f_1], 'o', markersize=8, color=myblue)\n",
    "    figure_improvement(ax1, mygray, font, fontsize,\n",
    "                       xlabel=r\"$f$ (MHz)\", ylabel=r'$T_1$ (s)',\n",
    "                       xlim=(5e2, 3e5), ylim=(1, 100))\n",
    "    save_figure(plt, fig, mode, name='T1')"
   ]
  },
  {
   "attachments": {},
   "cell_type": "markdown",
   "metadata": {},
   "source": [
    "# Plot the correlation function"
   ]
  },
  {
   "cell_type": "code",
   "execution_count": null,
   "metadata": {},
   "outputs": [],
   "source": [
    "for mode, mygray in zip(['light', 'dark'], [lightgray, darkgray]):\n",
    "    fig = plt.figure(figsize=(16, 8))\n",
    "    ax1 = fig.add_subplot(111)\n",
    "    ax1.loglog(nmr_result.t, nmr_result.gij[0]/nmr_result.gij[0][0], 'o', markersize=8, color=myblue)\n",
    "    figure_improvement(ax1, mygray, font, fontsize,\n",
    "                       xlabel=r\"$t$ (ps)\", ylabel=r'$G^{(0)} (t) / G^{(0)} (0)$',\n",
    "                       xlim=(1, 200), ylim=(0.0001, 1))\n",
    "    save_figure(plt, fig, mode, name='Gij')"
   ]
  },
  {
   "attachments": {},
   "cell_type": "markdown",
   "metadata": {},
   "source": [
    "# Intra/Inter motion"
   ]
  },
  {
   "cell_type": "code",
   "execution_count": null,
   "metadata": {},
   "outputs": [],
   "source": [
    "nmr_result_intra = nmrmd.NMR(u, group_i, type_analysis=\"intra_molecular\", number_i=0)\n",
    "nmr_result_inter = nmrmd.NMR(u, group_i, type_analysis=\"inter_molecular\", number_i=20)"
   ]
  },
  {
   "cell_type": "code",
   "execution_count": null,
   "metadata": {},
   "outputs": [],
   "source": [
    "f_1 = 250\n",
    "for mode, mygray in zip(['light', 'dark'], [lightgray, darkgray]):\n",
    "    fig = plt.figure(figsize=(16, 8))\n",
    "    ax1 = fig.add_subplot(111)\n",
    "    ax1.loglog(nmr_result.f[:-f_1], nmr_result.R1[:-f_1], 'o', markersize=8, color=myblue, label=\"Total\")\n",
    "    ax1.loglog(nmr_result_intra.f[:-f_1], nmr_result_intra.R1[:-f_1], 'o', markersize=8, color=myred, label=\"Intra-molecular\")\n",
    "    ax1.loglog(nmr_result_inter.f[:-f_1], nmr_result_inter.R1[:-f_1], 'o', markersize=8, color=mygray, label=\"Inter-molecular\")\n",
    "    figure_improvement(ax1, mygray, font, fontsize,\n",
    "                       xlabel=r\"$f$ (MHz)\", ylabel=r'$R_1$ (s$^{-1}$)',\n",
    "                       xlim=(5e2, 3e5), ylim=(0.01, 1))\n",
    "    save_figure(plt, fig, mode, name='R1-intra-inter')"
   ]
  },
  {
   "cell_type": "code",
   "execution_count": null,
   "metadata": {},
   "outputs": [],
   "source": [
    "for mode, mygray in zip(['light', 'dark'], [lightgray, darkgray]):\n",
    "    fig = plt.figure(figsize=(16, 8))\n",
    "    ax1 = fig.add_subplot(111)\n",
    "    ax1.loglog(nmr_result.t, nmr_result.gij[0]/nmr_result.gij[0][0], 'o', markersize=8, color=myblue, label=\"Total\")\n",
    "    ax1.loglog(nmr_result_intra.t, nmr_result_intra.gij[0]/nmr_result.gij[0][0], 'o', markersize=8, color=myred, label=\"Intra-molecular\")\n",
    "    ax1.loglog(nmr_result_inter.t, nmr_result_inter.gij[0]/nmr_result.gij[0][0], 'o', markersize=8, color=mygray, label=\"Inter-molecular\")\n",
    "    figure_improvement(ax1, mygray, font, fontsize,\n",
    "                       xlabel=r\"$t$ (ps)\", ylabel=r'$G^{(0)} (t) / G^{(0)} (0)$',\n",
    "                       xlim=(1, 100), ylim=(0.0001, 1))\n",
    "    save_figure(plt, fig, mode, name='Gij-intra-inter')"
   ]
  },
  {
   "attachments": {},
   "cell_type": "markdown",
   "metadata": {},
   "source": [
    "# Proportionality between $G^{m}$ functions"
   ]
  },
  {
   "cell_type": "code",
   "execution_count": null,
   "metadata": {},
   "outputs": [],
   "source": [
    "nmr_aniso = nmrmd.NMR(u, group_i, number_i=80, isotropic=False)"
   ]
  },
  {
   "cell_type": "code",
   "execution_count": null,
   "metadata": {},
   "outputs": [],
   "source": [
    "for mode, mygray in zip(['light', 'dark'], [lightgray, darkgray]):\n",
    "    fig = plt.figure(figsize=(16, 8))\n",
    "    ax1 = fig.add_subplot(111)\n",
    "    ax1.loglog(nmr_aniso.t, nmr_aniso.gij[0]/nmr_aniso.gij[0][0], 'o', markersize=8, color=myblue, label=\"$G^{(0)}(t) / G^{(0)}(0)$\")\n",
    "    ax1.loglog(nmr_aniso.t, 6*nmr_aniso.gij[1]/nmr_aniso.gij[0][0], 'o', markersize=8, color=myred, label=\"$6 G^{(1)}(t) / G^{(0)}(0)$\")\n",
    "    ax1.loglog(nmr_aniso.t, 6*nmr_aniso.gij[2]/nmr_aniso.gij[0][0]/4, 'o', markersize=8, color=mygray, label=\"$6 G^{(2)}(t) / G^{0()}(0) / 4$\")\n",
    "    figure_improvement(ax1, mygray, font, fontsize,\n",
    "                       xlabel=r\"$t$ (ps)\", ylabel=r'$G^{(m)} (t) / G^{(0)} (0)$',\n",
    "                       xlim=(1, 100), ylim=(0.0001, 1))\n",
    "    save_figure(plt, fig, mode, name='Gij-aniso')"
   ]
  }
 ],
 "metadata": {
  "kernelspec": {
   "display_name": "Python 3.8.10 64-bit",
   "language": "python",
   "name": "python3"
  },
  "language_info": {
   "codemirror_mode": {
    "name": "ipython",
    "version": 3
   },
   "file_extension": ".py",
   "mimetype": "text/x-python",
   "name": "python",
   "nbconvert_exporter": "python",
   "pygments_lexer": "ipython3",
   "version": "3.10.7"
  },
  "vscode": {
   "interpreter": {
    "hash": "916dbcbb3f70747c44a77c7bcd40155683ae19c65e1c03b4aa3499c5328201f1"
   }
  }
 },
 "nbformat": 4,
 "nbformat_minor": 4
}
