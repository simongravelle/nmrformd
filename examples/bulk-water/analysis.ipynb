{
 "cells": [
  {
   "attachments": {},
   "cell_type": "markdown",
   "metadata": {},
   "source": [
    "# Create a MDAnalysis universe"
   ]
  },
  {
   "cell_type": "code",
   "execution_count": 1,
   "metadata": {},
   "outputs": [],
   "source": [
    "import numpy as np\n",
    "import MDAnalysis as mda\n",
    "import nmrformd as nmrmd"
   ]
  },
  {
   "cell_type": "code",
   "execution_count": 2,
   "metadata": {},
   "outputs": [],
   "source": [
    "datapath = \"./lammps-inputs/\""
   ]
  },
  {
   "cell_type": "code",
   "execution_count": 3,
   "metadata": {},
   "outputs": [],
   "source": [
    "u = mda.Universe(datapath+\"topology.data\", datapath+\"traj.xtc\")"
   ]
  },
  {
   "cell_type": "code",
   "execution_count": 4,
   "metadata": {},
   "outputs": [
    {
     "name": "stdout",
     "output_type": "stream",
     "text": [
      "The number of water molecules is 300\n"
     ]
    }
   ],
   "source": [
    "n_molecules = u.atoms.n_residues\n",
    "print(f\"The number of water molecules is {n_molecules}\")"
   ]
  },
  {
   "cell_type": "code",
   "execution_count": 5,
   "metadata": {},
   "outputs": [
    {
     "name": "stdout",
     "output_type": "stream",
     "text": [
      "The timestep is 1 ps\n"
     ]
    }
   ],
   "source": [
    "timestep = np.int32(u.trajectory.dt)\n",
    "print(f\"The timestep is {timestep} ps\")"
   ]
  },
  {
   "cell_type": "code",
   "execution_count": 6,
   "metadata": {},
   "outputs": [
    {
     "name": "stdout",
     "output_type": "stream",
     "text": [
      "The total simulation time is 1000 ps\n"
     ]
    }
   ],
   "source": [
    "total_time = np.int32(u.trajectory.totaltime)\n",
    "print(f\"The total simulation time is {total_time} ps\")"
   ]
  },
  {
   "attachments": {},
   "cell_type": "markdown",
   "metadata": {},
   "source": [
    "# Run NMRforMD"
   ]
  },
  {
   "cell_type": "code",
   "execution_count": 7,
   "metadata": {},
   "outputs": [],
   "source": [
    "group_i = u.select_atoms(\"type 2\")"
   ]
  },
  {
   "cell_type": "code",
   "execution_count": 8,
   "metadata": {},
   "outputs": [
    {
     "name": "stderr",
     "output_type": "stream",
     "text": [
      "/home/simon/.local/lib/python3.10/site-packages/nmrformd/NMR.py:245: ComplexWarning: Casting complex values to real discards the imaginary part\n",
      "  self.data[:, cpt] = self.sph_val\n"
     ]
    },
    {
     "ename": "AttributeError",
     "evalue": "'NMR' object has no attribute 'R1'",
     "output_type": "error",
     "traceback": [
      "\u001b[0;31m---------------------------------------------------------------------------\u001b[0m",
      "\u001b[0;31mAttributeError\u001b[0m                            Traceback (most recent call last)",
      "\u001b[0;32m/tmp/ipykernel_424405/2706714385.py\u001b[0m in \u001b[0;36m<module>\u001b[0;34m\u001b[0m\n\u001b[0;32m----> 1\u001b[0;31m \u001b[0mnmr_result\u001b[0m \u001b[0;34m=\u001b[0m \u001b[0mnmrmd\u001b[0m\u001b[0;34m.\u001b[0m\u001b[0mNMR\u001b[0m\u001b[0;34m(\u001b[0m\u001b[0mu\u001b[0m\u001b[0;34m,\u001b[0m \u001b[0mgroup_i\u001b[0m\u001b[0;34m,\u001b[0m \u001b[0misotropic\u001b[0m\u001b[0;34m=\u001b[0m\u001b[0;32mFalse\u001b[0m\u001b[0;34m)\u001b[0m\u001b[0;34m\u001b[0m\u001b[0;34m\u001b[0m\u001b[0m\n\u001b[0m",
      "\u001b[0;32m~/.local/lib/python3.10/site-packages/nmrformd/NMR.py\u001b[0m in \u001b[0;36m__init__\u001b[0;34m(self, u, atom_group, neighbor_group, type_analysis, number_i, isotropic, f0, actual_dt, hydrogen_per_atom, spin, start, stop, step, pbc)\u001b[0m\n\u001b[1;32m    133\u001b[0m         \u001b[0mself\u001b[0m\u001b[0;34m.\u001b[0m\u001b[0mcalculate_spectrum\u001b[0m\u001b[0;34m(\u001b[0m\u001b[0;34m)\u001b[0m\u001b[0;34m\u001b[0m\u001b[0;34m\u001b[0m\u001b[0m\n\u001b[1;32m    134\u001b[0m         \u001b[0mself\u001b[0m\u001b[0;34m.\u001b[0m\u001b[0mf0\u001b[0m \u001b[0;34m=\u001b[0m \u001b[0mf0\u001b[0m\u001b[0;34m\u001b[0m\u001b[0;34m\u001b[0m\u001b[0m\n\u001b[0;32m--> 135\u001b[0;31m         \u001b[0mself\u001b[0m\u001b[0;34m.\u001b[0m\u001b[0mcalculate_relaxationtime\u001b[0m\u001b[0;34m(\u001b[0m\u001b[0;34m)\u001b[0m\u001b[0;34m\u001b[0m\u001b[0;34m\u001b[0m\u001b[0m\n\u001b[0m\u001b[1;32m    136\u001b[0m         \u001b[0;31m#self.calculate_tau()\u001b[0m\u001b[0;34m\u001b[0m\u001b[0;34m\u001b[0m\u001b[0m\n\u001b[1;32m    137\u001b[0m         \u001b[0;31m#self.calculate_secondmoment()\u001b[0m\u001b[0;34m\u001b[0m\u001b[0;34m\u001b[0m\u001b[0m\n",
      "\u001b[0;32m~/.local/lib/python3.10/site-packages/nmrformd/NMR.py\u001b[0m in \u001b[0;36mcalculate_relaxationtime\u001b[0;34m(self)\u001b[0m\n\u001b[1;32m    323\u001b[0m         \u001b[0;34m\"\"\"Calculate the relaxation time at a given frequency f0 (default is 0)\"\"\"\u001b[0m\u001b[0;34m\u001b[0m\u001b[0;34m\u001b[0m\u001b[0m\n\u001b[1;32m    324\u001b[0m         \u001b[0;32mif\u001b[0m \u001b[0mself\u001b[0m\u001b[0;34m.\u001b[0m\u001b[0mf0\u001b[0m \u001b[0;32mis\u001b[0m \u001b[0;32mNone\u001b[0m\u001b[0;34m:\u001b[0m\u001b[0;34m\u001b[0m\u001b[0;34m\u001b[0m\u001b[0m\n\u001b[0;32m--> 325\u001b[0;31m             \u001b[0mself\u001b[0m\u001b[0;34m.\u001b[0m\u001b[0mT1\u001b[0m \u001b[0;34m=\u001b[0m \u001b[0;36m1\u001b[0m\u001b[0;34m/\u001b[0m\u001b[0mself\u001b[0m\u001b[0;34m.\u001b[0m\u001b[0mR1\u001b[0m\u001b[0;34m[\u001b[0m\u001b[0;36m0\u001b[0m\u001b[0;34m]\u001b[0m\u001b[0;34m\u001b[0m\u001b[0;34m\u001b[0m\u001b[0m\n\u001b[0m\u001b[1;32m    326\u001b[0m             \u001b[0mself\u001b[0m\u001b[0;34m.\u001b[0m\u001b[0mT2\u001b[0m \u001b[0;34m=\u001b[0m \u001b[0;36m1\u001b[0m\u001b[0;34m/\u001b[0m\u001b[0mself\u001b[0m\u001b[0;34m.\u001b[0m\u001b[0mR2\u001b[0m\u001b[0;34m[\u001b[0m\u001b[0;36m0\u001b[0m\u001b[0;34m]\u001b[0m\u001b[0;34m\u001b[0m\u001b[0;34m\u001b[0m\u001b[0m\n\u001b[1;32m    327\u001b[0m         \u001b[0;32melse\u001b[0m\u001b[0;34m:\u001b[0m\u001b[0;34m\u001b[0m\u001b[0;34m\u001b[0m\u001b[0m\n",
      "\u001b[0;31mAttributeError\u001b[0m: 'NMR' object has no attribute 'R1'"
     ]
    }
   ],
   "source": [
    "nmr_result = nmrmd.NMR(u, group_i, isotropic=False)"
   ]
  },
  {
   "attachments": {},
   "cell_type": "markdown",
   "metadata": {},
   "source": [
    "# Extract T1"
   ]
  },
  {
   "cell_type": "code",
   "execution_count": null,
   "metadata": {},
   "outputs": [],
   "source": [
    "T1 = np.round(nmr_result.T1,2)\n",
    "print(f\"NMR relaxation time T1 = {T1} s\")"
   ]
  },
  {
   "attachments": {},
   "cell_type": "markdown",
   "metadata": {},
   "source": [
    "# Plot the spectrum"
   ]
  },
  {
   "cell_type": "code",
   "execution_count": null,
   "metadata": {},
   "outputs": [],
   "source": [
    "from matplotlib import pyplot as plt\n",
    "from matplotlib.ticker import AutoMinorLocator\n",
    "from mpl_toolkits.axes_grid1 import make_axes_locatable"
   ]
  },
  {
   "cell_type": "code",
   "execution_count": null,
   "metadata": {},
   "outputs": [],
   "source": [
    "plt.rcParams.update({\n",
    "    \"text.usetex\": True,\n",
    "    \"font.family\": \"serif\",\n",
    "    \"font.serif\": [\"Palatino\"],\n",
    "})\n",
    "fontsize = 30\n",
    "font = {'family': 'sans', 'color':  'black', 'weight': 'normal', 'size': fontsize}\n",
    "myblue = [0/ 255, 150/255, 177/ 255]\n",
    "lightgray = [0.1, 0.1, 0.1]\n",
    "darkgray = [0.9, 0.9, 0.9]"
   ]
  },
  {
   "attachments": {},
   "cell_type": "markdown",
   "metadata": {},
   "source": [
    "#### Plot one figure for the light mode, and one figure for the dark mode"
   ]
  },
  {
   "cell_type": "code",
   "execution_count": null,
   "metadata": {},
   "outputs": [],
   "source": [
    "for mode, mygray in zip(['light', 'dark'], [lightgray, darkgray]):\n",
    "\n",
    "    fig = plt.figure(figsize=(16, 8))\n",
    "    ax1 = fig.add_subplot(111)\n",
    "    plt.loglog(nmr_result.f[:-60], 1/nmr_result.R1[:-60], 'o', markersize=8, color=myblue)\n",
    "    divider = make_axes_locatable(ax1)\n",
    "    ax1.set_xlabel(r\"$f$ (MHz)\", fontdict=font)\n",
    "    ax1.set_ylabel(r'$T_1$ (s)', fontdict=font)\n",
    "    plt.xticks(fontsize=fontsize)\n",
    "    plt.yticks(fontsize=fontsize)\n",
    "    #plt.ylim(5, 65)\n",
    "    ax1.minorticks_on()\n",
    "    ax1.tick_params('both', length=10, width=2, which='major', direction='in')\n",
    "    ax1.tick_params('both', length=6, width=1.4, which='minor', direction='in')\n",
    "    ax1.xaxis.set_ticks_position('both')\n",
    "    ax1.yaxis.set_ticks_position('both')\n",
    "    ax1.spines[\"top\"].set_linewidth(2)\n",
    "    ax1.spines[\"bottom\"].set_linewidth(2)\n",
    "    ax1.spines[\"left\"].set_linewidth(2)\n",
    "    ax1.spines[\"right\"].set_linewidth(2)\n",
    "    #ax1.set_xticks([0, 5, 10, 15, 20])\n",
    "    #ax1.set_yticks([0, 0.4, 0.8, 1.2, 1.6])\n",
    "    #minor_locator_y = AutoMinorLocator(2)\n",
    "    #ax1.yaxis.set_minor_locator(minor_locator_y)\n",
    "    #minor_locator_x = AutoMinorLocator(2)\n",
    "    #ax1.xaxis.set_minor_locator(minor_locator_x)\n",
    "    ax1.xaxis.label.set_color(mygray)\n",
    "    ax1.yaxis.label.set_color(mygray)\n",
    "    ax1.tick_params(axis='x', colors=mygray)\n",
    "    ax1.tick_params(axis='y', colors=mygray)\n",
    "    ax1.spines['left'].set_color(mygray)\n",
    "    ax1.spines['top'].set_color(mygray)\n",
    "    ax1.spines['bottom'].set_color(mygray)\n",
    "    ax1.spines['right'].set_color(mygray)\n",
    "    ax1.tick_params(axis='y', which='both', colors=mygray)\n",
    "    ax1.tick_params(axis='x', which='both', colors=mygray)\n",
    "    ax1.tick_params(axis='x', pad=10)\n",
    "    plt.xlim(5e2, 5e5)\n",
    "    plt.ylim(1, 100)\n",
    "\n",
    "    fig.tight_layout()\n",
    "    if mode == 'light':\n",
    "        plt.savefig('figures/T1-light.png', bbox_inches = 'tight', pad_inches = 0.057, transparent=True)\n",
    "    else:\n",
    "        plt.savefig('figures/T1-dark.png', bbox_inches = 'tight', pad_inches = 0.057, transparent=True)\n",
    "    plt.show()"
   ]
  },
  {
   "attachments": {},
   "cell_type": "markdown",
   "metadata": {},
   "source": [
    "# Plot the correlation function"
   ]
  },
  {
   "cell_type": "code",
   "execution_count": null,
   "metadata": {},
   "outputs": [],
   "source": [
    "for mode, mygray in zip(['light', 'dark'], [lightgray, darkgray]):\n",
    "\n",
    "    fig = plt.figure(figsize=(16, 8))\n",
    "    ax1 = fig.add_subplot(111)\n",
    "    ax1.loglog(nmr_result.t[:-20], nmr_result.gij[0][:-20], 'o', markersize=8, color=myblue)\n",
    "    divider = make_axes_locatable(ax1)\n",
    "    ax1.set_xlabel(r\"$t$ (ps)\", fontdict=font)\n",
    "    ax1.set_ylabel(r'$G$ (m$^{-6}$)', fontdict=font)\n",
    "    plt.xticks(fontsize=fontsize)\n",
    "    plt.yticks(fontsize=fontsize)\n",
    "    #plt.ylim(5, 65)\n",
    "    ax1.minorticks_on()\n",
    "    ax1.tick_params('both', length=10, width=2, which='major', direction='in')\n",
    "    ax1.tick_params('both', length=6, width=1.4, which='minor', direction='in')\n",
    "    ax1.xaxis.set_ticks_position('both')\n",
    "    ax1.yaxis.set_ticks_position('both')\n",
    "    ax1.spines[\"top\"].set_linewidth(2)\n",
    "    ax1.spines[\"bottom\"].set_linewidth(2)\n",
    "    ax1.spines[\"left\"].set_linewidth(2)\n",
    "    ax1.spines[\"right\"].set_linewidth(2)\n",
    "    #ax1.set_xticks([0, 5, 10, 15, 20])\n",
    "    #ax1.set_yticks([0, 0.4, 0.8, 1.2, 1.6])\n",
    "    #minor_locator_y = AutoMinorLocator(2)\n",
    "    #ax1.yaxis.set_minor_locator(minor_locator_y)\n",
    "    #minor_locator_x = AutoMinorLocator(2)\n",
    "    #ax1.xaxis.set_minor_locator(minor_locator_x)\n",
    "    ax1.xaxis.label.set_color(mygray)\n",
    "    ax1.yaxis.label.set_color(mygray)\n",
    "    ax1.tick_params(axis='x', colors=mygray)\n",
    "    ax1.tick_params(axis='y', colors=mygray)\n",
    "    ax1.spines['left'].set_color(mygray)\n",
    "    ax1.spines['top'].set_color(mygray)\n",
    "    ax1.spines['bottom'].set_color(mygray)\n",
    "    ax1.spines['right'].set_color(mygray)\n",
    "    ax1.tick_params(axis='y', which='both', colors=mygray)\n",
    "    ax1.tick_params(axis='x', which='both', colors=mygray)\n",
    "    ax1.tick_params(axis='x', pad=10)\n",
    "    #plt.xlim(5e2, 5e5)\n",
    "    #plt.ylim(1, 100)\n",
    "    fig.tight_layout()\n",
    "    if mode == 'light':\n",
    "        plt.savefig('figures/G-light.png', bbox_inches = 'tight', pad_inches = 0.057, transparent=True)\n",
    "    else:\n",
    "        plt.savefig('figures/G-dark.png', bbox_inches = 'tight', pad_inches = 0.057, transparent=True)\n",
    "    plt.show()"
   ]
  }
 ],
 "metadata": {
  "kernelspec": {
   "display_name": "Python 3.8.10 64-bit",
   "language": "python",
   "name": "python3"
  },
  "language_info": {
   "codemirror_mode": {
    "name": "ipython",
    "version": 3
   },
   "file_extension": ".py",
   "mimetype": "text/x-python",
   "name": "python",
   "nbconvert_exporter": "python",
   "pygments_lexer": "ipython3",
   "version": "3.10.6"
  },
  "vscode": {
   "interpreter": {
    "hash": "916dbcbb3f70747c44a77c7bcd40155683ae19c65e1c03b4aa3499c5328201f1"
   }
  }
 },
 "nbformat": 4,
 "nbformat_minor": 4
}
