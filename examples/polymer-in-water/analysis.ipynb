{
 "cells": [
  {
   "attachments": {},
   "cell_type": "markdown",
   "metadata": {},
   "source": [
    "# Create a MDAnalysis universe"
   ]
  },
  {
   "cell_type": "code",
   "execution_count": null,
   "metadata": {},
   "outputs": [],
   "source": [
    "import numpy as np\n",
    "import MDAnalysis as mda\n",
    "import nmrformd as nmrmd"
   ]
  },
  {
   "cell_type": "code",
   "execution_count": null,
   "metadata": {},
   "outputs": [],
   "source": [
    "datapath = \"./gromacs-inputs/\""
   ]
  },
  {
   "cell_type": "code",
   "execution_count": null,
   "metadata": {},
   "outputs": [],
   "source": [
    "u = mda.Universe(datapath+\"prod.tpr\", datapath+\"prod.xtc\")"
   ]
  },
  {
   "cell_type": "code",
   "execution_count": null,
   "metadata": {},
   "outputs": [],
   "source": [
    "group_H = u.select_atoms(\"type H*\")\n",
    "group_H_water = u.select_atoms(\"resname SOL and type H*\")\n",
    "group_H_polymer = u.select_atoms(\"resname PEG and type H*\")"
   ]
  },
  {
   "cell_type": "code",
   "execution_count": null,
   "metadata": {},
   "outputs": [],
   "source": [
    "n_water_molecules = group_H_water.n_residues\n",
    "print(f\"The number of water molecules is {n_water_molecules}\")\n",
    "n_polymer_molecules = group_H_polymer.n_residues\n",
    "print(f\"The number of PEG molecules is {n_polymer_molecules}\")"
   ]
  },
  {
   "attachments": {},
   "cell_type": "markdown",
   "metadata": {},
   "source": [
    "# Run NMRforMD"
   ]
  },
  {
   "cell_type": "code",
   "execution_count": null,
   "metadata": {},
   "outputs": [],
   "source": [
    "PEG_nmr = nmrmd.NMR(u, group_H_polymer, neighbor_group=group_H, number_i=20)\n",
    "print(\"a\")\n",
    "H2O_nmr = nmrmd.NMR(u, group_H_water, neighbor_group=group_H, number_i=20)\n",
    "print(\"b\")"
   ]
  },
  {
   "attachments": {},
   "cell_type": "markdown",
   "metadata": {},
   "source": [
    "# Extract T1"
   ]
  },
  {
   "cell_type": "code",
   "execution_count": null,
   "metadata": {},
   "outputs": [],
   "source": [
    "T1_PEG = np.round(PEG_nmr.T1,2)\n",
    "print(f\"NMR relaxation time T1 - PEG = {T1_PEG} s\")\n",
    "T1_H2O = np.round(H2O_nmr.T1,2)\n",
    "print(f\"NMR relaxation time T1 - H2O = {T1_H2O} s\")"
   ]
  },
  {
   "attachments": {},
   "cell_type": "markdown",
   "metadata": {},
   "source": [
    "# Plot the spectrum"
   ]
  },
  {
   "cell_type": "code",
   "execution_count": null,
   "metadata": {},
   "outputs": [],
   "source": [
    "from matplotlib import pyplot as plt"
   ]
  },
  {
   "cell_type": "code",
   "execution_count": null,
   "metadata": {},
   "outputs": [],
   "source": [
    "plt.rcParams.update({\n",
    "    \"text.usetex\": True,\n",
    "    \"font.family\": \"serif\",\n",
    "    \"font.serif\": [\"Palatino\"],\n",
    "})\n",
    "fontsize = 30\n",
    "font = {'family': 'sans', 'color':  'black', 'weight': 'normal', 'size': fontsize}\n",
    "myblue = [0/ 255, 150/255, 177/ 255]\n",
    "lightgray = [0.1, 0.1, 0.1]\n",
    "darkgray = [0.9, 0.9, 0.9]\n",
    "myred= [255/ 255, 77/255, 77/ 255]"
   ]
  },
  {
   "cell_type": "code",
   "execution_count": null,
   "metadata": {},
   "outputs": [],
   "source": [
    "import sys\n",
    "sys.path.append('../shared/')\n",
    "from tools import figure_improvement, save_figure"
   ]
  },
  {
   "attachments": {},
   "cell_type": "markdown",
   "metadata": {},
   "source": [
    "#### Plot one figure for the light mode, and one figure for the dark mode"
   ]
  },
  {
   "cell_type": "code",
   "execution_count": null,
   "metadata": {},
   "outputs": [],
   "source": [
    "for mode, mygray in zip(['light', 'dark'], [lightgray, darkgray]):\n",
    "    fig = plt.figure(figsize=(16, 8))\n",
    "    ax1 = fig.add_subplot(111)\n",
    "    ax1.loglog(PEG_nmr.f[:-60], PEG_nmr.R1[:-60], 'o', markersize=8, color=myblue, label=r'PEG')\n",
    "    ax1.loglog(PEG_nmr.f[:-60], H2O_nmr.R1[:-60], 's', markersize=8, color=myred, label=r'H2O')\n",
    "    figure_improvement(ax1, mygray, font, fontsize,\n",
    "                       xlabel=r\"$f$ (MHz)\", ylabel=r'$R_1$ (s$^{-1}$)',\n",
    "                       xlim=(5e1, 2e5), ylim=(0.01, 10))\n",
    "    save_figure(plt, fig, mode, name='R1')"
   ]
  },
  {
   "cell_type": "code",
   "execution_count": null,
   "metadata": {},
   "outputs": [],
   "source": [
    "for mode, mygray in zip(['light', 'dark'], [lightgray, darkgray]):\n",
    "    fig = plt.figure(figsize=(16, 8))\n",
    "    ax1 = fig.add_subplot(111)\n",
    "    ax1.loglog(PEG_nmr.t[:-20], PEG_nmr.gij[0][:-20], 'o', markersize=8, color=myblue, label=r'PEG')\n",
    "    ax1.loglog(H2O_nmr.t[:-20], H2O_nmr.gij[0][:-20], 's', markersize=8, color=myred, label=r'H20')\n",
    "    figure_improvement(ax1, mygray, font, fontsize,\n",
    "                       xlabel=r\"$t$ (ps)\", ylabel=r'$G$ (m$^{-6}$)',\n",
    "                       xlim=(1, 1e3), ylim=(1e6, 1e11))\n",
    "    save_figure(plt, fig, mode, name='Gij')"
   ]
  }
 ],
 "metadata": {
  "kernelspec": {
   "display_name": "Python 3.8.10 64-bit",
   "language": "python",
   "name": "python3"
  },
  "language_info": {
   "codemirror_mode": {
    "name": "ipython",
    "version": 3
   },
   "file_extension": ".py",
   "mimetype": "text/x-python",
   "name": "python",
   "nbconvert_exporter": "python",
   "pygments_lexer": "ipython3",
   "version": "3.10.7"
  },
  "vscode": {
   "interpreter": {
    "hash": "916dbcbb3f70747c44a77c7bcd40155683ae19c65e1c03b4aa3499c5328201f1"
   }
  }
 },
 "nbformat": 4,
 "nbformat_minor": 4
}
