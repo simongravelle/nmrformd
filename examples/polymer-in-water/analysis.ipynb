{
 "cells": [
  {
   "attachments": {},
   "cell_type": "markdown",
   "metadata": {},
   "source": [
    "# Create a MDAnalysis universe"
   ]
  },
  {
   "cell_type": "code",
   "execution_count": null,
   "metadata": {},
   "outputs": [],
   "source": [
    "import numpy as np\n",
    "import MDAnalysis as mda\n",
    "import nmrformd as nmrmd"
   ]
  },
  {
   "cell_type": "code",
   "execution_count": null,
   "metadata": {},
   "outputs": [],
   "source": [
    "datapath = \"./gromacs-inputs/\""
   ]
  },
  {
   "cell_type": "code",
   "execution_count": null,
   "metadata": {},
   "outputs": [],
   "source": [
    "u = mda.Universe(datapath+\"prod.tpr\", datapath+\"prod.xtc\")"
   ]
  },
  {
   "cell_type": "code",
   "execution_count": null,
   "metadata": {},
   "outputs": [],
   "source": [
    "group_H = u.select_atoms(\"type H*\")\n",
    "group_H_water = u.select_atoms(\"resname SOL and type H*\")\n",
    "group_H_polymer = u.select_atoms(\"resname PEG and type H*\")"
   ]
  },
  {
   "cell_type": "code",
   "execution_count": null,
   "metadata": {},
   "outputs": [],
   "source": [
    "n_water_molecules = group_H_water.n_residues\n",
    "print(f\"The number of water molecules is {n_water_molecules}\")\n",
    "n_polymer_molecules = group_H_polymer.n_residues\n",
    "print(f\"The number of PEG molecules is {n_polymer_molecules}\")"
   ]
  },
  {
   "attachments": {},
   "cell_type": "markdown",
   "metadata": {},
   "source": [
    "# Run NMRforMD"
   ]
  },
  {
   "cell_type": "code",
   "execution_count": null,
   "metadata": {},
   "outputs": [],
   "source": [
    "PEG_nmr = nmrmd.NMR(u, group_H_polymer, neighbor_group=group_H) # , number_i=40)\n",
    "H2O_nmr = nmrmd.NMR(u, group_H_water, neighbor_group=group_H, number_i=120)"
   ]
  },
  {
   "attachments": {},
   "cell_type": "markdown",
   "metadata": {},
   "source": [
    "# Extract T1"
   ]
  },
  {
   "cell_type": "code",
   "execution_count": null,
   "metadata": {},
   "outputs": [],
   "source": [
    "T1_PEG = np.round(PEG_nmr.T1,2)\n",
    "print(f\"NMR relaxation time T1 - PEG = {T1_PEG} s\")\n",
    "T1_H2O = np.round(H2O_nmr.T1,2)\n",
    "print(f\"NMR relaxation time T1 - H2O = {T1_H2O} s\")"
   ]
  },
  {
   "attachments": {},
   "cell_type": "markdown",
   "metadata": {},
   "source": [
    "# Plot the spectrum"
   ]
  },
  {
   "cell_type": "code",
   "execution_count": null,
   "metadata": {},
   "outputs": [],
   "source": [
    "from matplotlib import pyplot as plt\n",
    "from matplotlib.ticker import AutoMinorLocator\n",
    "from mpl_toolkits.axes_grid1 import make_axes_locatable"
   ]
  },
  {
   "cell_type": "code",
   "execution_count": null,
   "metadata": {},
   "outputs": [],
   "source": [
    "plt.rcParams.update({\n",
    "    \"text.usetex\": True,\n",
    "    \"font.family\": \"serif\",\n",
    "    \"font.serif\": [\"Palatino\"],\n",
    "})\n",
    "fontsize = 30\n",
    "font = {'family': 'sans', 'color':  'black', 'weight': 'normal', 'size': fontsize}\n",
    "myblue = [0/ 255, 150/255, 177/ 255]\n",
    "myred= [255/ 255, 77/255, 77/ 255]\n",
    "lightgray = [0.1, 0.1, 0.1]\n",
    "darkgray = [0.9, 0.9, 0.9]"
   ]
  },
  {
   "attachments": {},
   "cell_type": "markdown",
   "metadata": {},
   "source": [
    "#### Plot one figure for the light mode, and one figure for the dark mode"
   ]
  },
  {
   "cell_type": "code",
   "execution_count": null,
   "metadata": {},
   "outputs": [],
   "source": [
    "for mode, mygray in zip(['light', 'dark'], [lightgray, darkgray]):\n",
    "\n",
    "    fig = plt.figure(figsize=(16, 8))\n",
    "    ax1 = fig.add_subplot(111)\n",
    "    plt.loglog(PEG_nmr.f[:-60], PEG_nmr.R1[:-60], 'o', markersize=8, color=myblue, label=r'PEG')\n",
    "    plt.loglog(PEG_nmr.f[:-60], H2O_nmr.R1[:-60], 's', markersize=8, color=myred, label=r'H2O')\n",
    "    divider = make_axes_locatable(ax1)\n",
    "    ax1.set_xlabel(r\"$f$ (MHz)\", fontdict=font)\n",
    "    ax1.set_ylabel(r'$R_1$ (s$^{-1}$)', fontdict=font)\n",
    "    plt.xticks(fontsize=fontsize)\n",
    "    plt.yticks(fontsize=fontsize)\n",
    "    #plt.ylim(5, 65)\n",
    "    ax1.minorticks_on()\n",
    "    ax1.tick_params('both', length=10, width=2, which='major', direction='in')\n",
    "    ax1.tick_params('both', length=6, width=1.4, which='minor', direction='in')\n",
    "    ax1.xaxis.set_ticks_position('both')\n",
    "    ax1.yaxis.set_ticks_position('both')\n",
    "    ax1.spines[\"top\"].set_linewidth(2)\n",
    "    ax1.spines[\"bottom\"].set_linewidth(2)\n",
    "    ax1.spines[\"left\"].set_linewidth(2)\n",
    "    ax1.spines[\"right\"].set_linewidth(2)\n",
    "    #ax1.set_xticks([0, 5, 10, 15, 20])\n",
    "    #ax1.set_yticks([0, 0.4, 0.8, 1.2, 1.6])\n",
    "    #minor_locator_y = AutoMinorLocator(2)\n",
    "    #ax1.yaxis.set_minor_locator(minor_locator_y)\n",
    "    #minor_locator_x = AutoMinorLocator(2)\n",
    "    #ax1.xaxis.set_minor_locator(minor_locator_x)\n",
    "    ax1.xaxis.label.set_color(mygray)\n",
    "    ax1.yaxis.label.set_color(mygray)\n",
    "    ax1.tick_params(axis='x', colors=mygray)\n",
    "    ax1.tick_params(axis='y', colors=mygray)\n",
    "    ax1.spines['left'].set_color(mygray)\n",
    "    ax1.spines['top'].set_color(mygray)\n",
    "    ax1.spines['bottom'].set_color(mygray)\n",
    "    ax1.spines['right'].set_color(mygray)\n",
    "    ax1.tick_params(axis='y', which='both', colors=mygray)\n",
    "    ax1.tick_params(axis='x', which='both', colors=mygray)\n",
    "    ax1.tick_params(axis='x', pad=10)\n",
    "    plt.xlim(5e1, 2e5)\n",
    "    plt.ylim(0.01, 10)\n",
    "\n",
    "    ax1.legend(frameon=False, fontsize=fontsize, \n",
    "            loc='upper left', handletextpad=0.5,\n",
    "            handlelength = 0.2, borderpad = 0.3, \n",
    "            labelspacing=0.3) \n",
    "\n",
    "    fig.tight_layout()\n",
    "    if mode == 'light':\n",
    "        plt.savefig('figures/R1-light.png', bbox_inches = 'tight', pad_inches = 0.057, transparent=True)\n",
    "    else:\n",
    "        plt.savefig('figures/R1-dark.png', bbox_inches = 'tight', pad_inches = 0.057, transparent=True)\n",
    "    plt.show()"
   ]
  },
  {
   "attachments": {},
   "cell_type": "markdown",
   "metadata": {},
   "source": [
    "# Plot the correlation function"
   ]
  },
  {
   "cell_type": "code",
   "execution_count": 29,
   "metadata": {},
   "outputs": [],
   "source": [
    "for mode, mygray in zip(['light', 'dark'], [lightgray, darkgray]):\n",
    "\n",
    "    fig = plt.figure(figsize=(16, 8))\n",
    "    ax1 = fig.add_subplot(111)\n",
    "    ax1.loglog(PEG_nmr.t[:-20], PEG_nmr.gij[0][:-20], 'o', markersize=8, color=myblue)\n",
    "    ax1.loglog(H2O_nmr.t[:-20], H2O_nmr.gij[0][:-20], 's', markersize=8, color=myred)\n",
    "    divider = make_axes_locatable(ax1)\n",
    "    ax1.set_xlabel(r\"$t$ (ps)\", fontdict=font)\n",
    "    ax1.set_ylabel(r'$G$ (m$^{-6}$)', fontdict=font)\n",
    "    plt.xticks(fontsize=fontsize)\n",
    "    plt.yticks(fontsize=fontsize)\n",
    "    #plt.ylim(5, 65)\n",
    "    ax1.minorticks_on()\n",
    "    ax1.tick_params('both', length=10, width=2, which='major', direction='in')\n",
    "    ax1.tick_params('both', length=6, width=1.4, which='minor', direction='in')\n",
    "    ax1.xaxis.set_ticks_position('both')\n",
    "    ax1.yaxis.set_ticks_position('both')\n",
    "    ax1.spines[\"top\"].set_linewidth(2)\n",
    "    ax1.spines[\"bottom\"].set_linewidth(2)\n",
    "    ax1.spines[\"left\"].set_linewidth(2)\n",
    "    ax1.spines[\"right\"].set_linewidth(2)\n",
    "    #ax1.set_xticks([0, 5, 10, 15, 20])\n",
    "    #ax1.set_yticks([0, 0.4, 0.8, 1.2, 1.6])\n",
    "    #minor_locator_y = AutoMinorLocator(2)\n",
    "    #ax1.yaxis.set_minor_locator(minor_locator_y)\n",
    "    #minor_locator_x = AutoMinorLocator(2)\n",
    "    #ax1.xaxis.set_minor_locator(minor_locator_x)\n",
    "    ax1.xaxis.label.set_color(mygray)\n",
    "    ax1.yaxis.label.set_color(mygray)\n",
    "    ax1.tick_params(axis='x', colors=mygray)\n",
    "    ax1.tick_params(axis='y', colors=mygray)\n",
    "    ax1.spines['left'].set_color(mygray)\n",
    "    ax1.spines['top'].set_color(mygray)\n",
    "    ax1.spines['bottom'].set_color(mygray)\n",
    "    ax1.spines['right'].set_color(mygray)\n",
    "    ax1.tick_params(axis='y', which='both', colors=mygray)\n",
    "    ax1.tick_params(axis='x', which='both', colors=mygray)\n",
    "    ax1.tick_params(axis='x', pad=10)\n",
    "    plt.xlim(1, 1e3)\n",
    "    plt.ylim(1e6, 1e11)\n",
    "    fig.tight_layout()\n",
    "    if mode == 'light':\n",
    "        plt.savefig('figures/G-light.png', bbox_inches = 'tight', pad_inches = 0.057, transparent=True)\n",
    "    else:\n",
    "        plt.savefig('figures/G-dark.png', bbox_inches = 'tight', pad_inches = 0.057, transparent=True)\n",
    "    plt.show()"
   ]
  }
 ],
 "metadata": {
  "kernelspec": {
   "display_name": "Python 3.8.10 64-bit",
   "language": "python",
   "name": "python3"
  },
  "language_info": {
   "codemirror_mode": {
    "name": "ipython",
    "version": 3
   },
   "file_extension": ".py",
   "mimetype": "text/x-python",
   "name": "python",
   "nbconvert_exporter": "python",
   "pygments_lexer": "ipython3",
   "version": "3.10.6"
  },
  "vscode": {
   "interpreter": {
    "hash": "916dbcbb3f70747c44a77c7bcd40155683ae19c65e1c03b4aa3499c5328201f1"
   }
  }
 },
 "nbformat": 4,
 "nbformat_minor": 4
}
