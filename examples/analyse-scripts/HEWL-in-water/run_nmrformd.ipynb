{
 "cells": [
  {
   "cell_type": "code",
   "execution_count": null,
   "id": "92f4e0d1",
   "metadata": {},
   "outputs": [],
   "source": [
    "import os\n",
    "import numpy as np\n",
    "import nmrformd as nmrmd\n",
    "import MDAnalysis as mda\n",
    "\n",
    "import matplotlib.pyplot as plt\n",
    "\n",
    "from utilities import detect_groups, save_nmr_data\n",
    "\n",
    "# Path to data\n",
    "datapath = \"../../raw-data/HEWL-in-water/\"\n",
    "\n",
    "f_cut_off = 5e4\n",
    "\n",
    "for rho_water in [0.08, 0.17, 0.25, 0.39, 0.52, 0.73]:\n",
    "    folder = \"T300K_ratio\"+str(rho_water)+\"/\"\n",
    "    filename = \"T300K_ratio\"+str(rho_water)+\".npy\"\n",
    "\n",
    "    # Import universe\n",
    "    u = mda.Universe(datapath+folder+\"prod.tpr\", datapath+folder+\"prod.xtc\")\n",
    "    h_all, h_water, h_protein = detect_groups(u)\n",
    "\n",
    "    # Calculate NMR properties for only one atom at a time\n",
    "    nmr_h2o_intra = nmrmd.NMR(u, atom_group=h_water, neighbor_group=h_water, number_i=1, type_analysis=\"intra_molecular\")\n",
    "    nmr_h2o_inter = nmrmd.NMR(u, atom_group=h_water, neighbor_group=h_water, number_i=1, type_analysis=\"inter_molecular\")\n",
    "    nmr_pro_intra = nmrmd.NMR(u, atom_group=h_protein, neighbor_group=h_protein, number_i=1)\n",
    "    nmr_h2o_pro = nmrmd.NMR(u, atom_group=h_water, neighbor_group=h_protein, number_i=1)\n",
    "    nmr_tot_tot = nmrmd.NMR(u, atom_group=h_all, neighbor_group=h_all, number_i=1)\n",
    "\n",
    "    save_nmr_data(filename, f_cut_off, nmr_h2o_intra, nmr_h2o_inter, nmr_pro_intra, nmr_h2o_pro, nmr_tot_tot)"
   ]
  }
 ],
 "metadata": {
  "kernelspec": {
   "display_name": "Python 3 (ipykernel)",
   "language": "python",
   "name": "python3"
  },
  "language_info": {
   "codemirror_mode": {
    "name": "ipython",
    "version": 3
   },
   "file_extension": ".py",
   "mimetype": "text/x-python",
   "name": "python",
   "nbconvert_exporter": "python",
   "pygments_lexer": "ipython3",
   "version": "3.10.7"
  }
 },
 "nbformat": 4,
 "nbformat_minor": 5
}
