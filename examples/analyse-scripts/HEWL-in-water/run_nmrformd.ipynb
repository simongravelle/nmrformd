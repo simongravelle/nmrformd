{
 "cells": [
  {
   "cell_type": "code",
   "execution_count": 7,
   "id": "92f4e0d1",
   "metadata": {},
   "outputs": [],
   "source": [
    "import os\n",
    "import numpy as np\n",
    "import nmrformd as nmrmd\n",
    "import MDAnalysis as mda\n",
    "\n",
    "import matplotlib.pyplot as plt\n",
    "\n",
    "# Path to data\n",
    "datapath = \"../../raw-data/HEWL-in-water/\"\n",
    "\n",
    "alpha_m = [np.sqrt(16 * np.pi / 5), np.sqrt(8 * np.pi / 15), np.sqrt(32 * np.pi / 15)]\n",
    "\n",
    "all_folders = [\"T300K_ratio0.11/\", \"T300K_ratio0.61/\"]\n",
    "\n",
    "for folder in all_folders:\n",
    "\n",
    "    # Import universe\n",
    "    u = mda.Universe(datapath+folder+\"conf.gro\", datapath+folder+\"prod.xtc\")\n",
    "    u.transfer_to_memory(stop=10000)\n",
    "    \n",
    "    # Water\n",
    "    water = u.select_atoms(\"name OW HW1 HW2\")\n",
    "    h_water = u.select_atoms(\"name HW1 HW2\")\n",
    "\n",
    "    # Protein\n",
    "    all_name = ' '\n",
    "    for name in np.unique(u.atoms.names):\n",
    "        if (name != 'OW') & (name != 'HW2') & (name != 'HW1'):\n",
    "            all_name += name + ' '\n",
    "    protein = u.select_atoms('name '+all_name)\n",
    "    all_name_H = ' '\n",
    "    for name in np.unique(u.atoms.names):\n",
    "        if (name != 'OW') & (name != 'HW2') & (name != 'HW1') & (name[0] == 'H'):\n",
    "            all_name_H += name + ' '\n",
    "    h_protein = u.select_atoms('name '+all_name_H)\n",
    "\n",
    "    # All\n",
    "    h_all = h_protein+h_water\n",
    "\n",
    "    # Calculate NMR properties\n",
    "    nmr_all_all = nmrmd.NMR(u, atom_group=h_all, neighbor_group=h_all, number_i=20) #np.min([40, h_all.atoms.n_atoms]))\n",
    "\n",
    "    dictionary = {\n",
    "        \"nmr_all_f\": nmr_all_all.f,\n",
    "        \"nmr_all_R1\": nmr_all_all.R1,\n",
    "        \"nmr_all_R2\": nmr_all_all.R2,\n",
    "    }\n",
    "    np.save(folder[:-1]+\"_analysed-all-data.npy\", dictionary)"
   ]
  }
 ],
 "metadata": {
  "kernelspec": {
   "display_name": "Python 3 (ipykernel)",
   "language": "python",
   "name": "python3"
  },
  "language_info": {
   "codemirror_mode": {
    "name": "ipython",
    "version": 3
   },
   "file_extension": ".py",
   "mimetype": "text/x-python",
   "name": "python",
   "nbconvert_exporter": "python",
   "pygments_lexer": "ipython3",
   "version": "3.10.7"
  }
 },
 "nbformat": 4,
 "nbformat_minor": 5
}
