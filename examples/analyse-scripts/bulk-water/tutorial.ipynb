{
 "cells": [
  {
   "cell_type": "code",
   "execution_count": 3,
   "metadata": {},
   "outputs": [],
   "source": [
    "# Import libraries\n",
    "import numpy as np\n",
    "import MDAnalysis as mda\n",
    "import nmrformd as nmrmd\n",
    "\n",
    "# For figure plotting\n",
    "import sys\n",
    "from matplotlib import pyplot as plt\n",
    "plt.rcParams.update({\n",
    "    \"text.usetex\": True,\n",
    "    \"font.family\": \"serif\",\n",
    "    \"font.serif\": [\"Palatino\"],\n",
    "})\n",
    "fontsize = 30\n",
    "font = {'family': 'sans', 'color':  'black', 'weight': 'normal', 'size': fontsize}\n",
    "myblue = [0/ 255, 150/255, 177/ 255]\n",
    "lightgray = [0.1, 0.1, 0.1]\n",
    "darkgray = [0.9, 0.9, 0.9]\n",
    "myred= [255/ 255, 77/255, 77/ 255]\n",
    "sys.path.append('../../shared/')\n",
    "from tools import figure_improvement, save_figure\n",
    "\n",
    "# Path to data\n",
    "datapath = \"../../raw-data/bulk-water/N398/\"\n",
    "\n",
    "# Create a MDAnalysis universe\n",
    "u = mda.Universe(datapath+\"topology.data\", datapath+\"prod.xtc\")\n",
    "u.transfer_to_memory(stop=501) # to analyse only a subpart of the trajectory"
   ]
  },
  {
   "cell_type": "code",
   "execution_count": 4,
   "metadata": {},
   "outputs": [
    {
     "name": "stdout",
     "output_type": "stream",
     "text": [
      "The number of water molecules is 398\n",
      "The timestep is 1 ps\n",
      "The total simulation time is 500 ps\n"
     ]
    }
   ],
   "source": [
    "# Print a few information\n",
    "n_molecules = u.atoms.n_residues\n",
    "print(f\"The number of water molecules is {n_molecules}\")\n",
    "timestep = np.int32(u.trajectory.dt)\n",
    "print(f\"The timestep is {timestep} ps\")\n",
    "total_time = np.int32(u.trajectory.totaltime)\n",
    "print(f\"The total simulation time is {total_time} ps\")"
   ]
  },
  {
   "cell_type": "code",
   "execution_count": null,
   "metadata": {},
   "outputs": [],
   "source": [
    "# Run NMRforMD\n",
    "group_i = u.select_atoms(\"type 2\")\n",
    "nmr_result = nmrmd.NMR(u, group_i, number_i=80) # 3-4 minutes to complete"
   ]
  },
  {
   "cell_type": "code",
   "execution_count": null,
   "metadata": {},
   "outputs": [],
   "source": [
    "# T1 bulk water - tutorial figure\n",
    "f_1 = 2600\n",
    "for mode, mygray in zip(['light', 'dark'], [lightgray, darkgray]):\n",
    "    fig = plt.figure(figsize=(16, 8))\n",
    "    ax1 = fig.add_subplot(111)\n",
    "    ax1.loglog(nmr_result.f[:-f_1], 1/nmr_result.R1[:-f_1], 'o', markersize=8, color=myblue)\n",
    "    figure_improvement(ax1, mygray, font, fontsize,\n",
    "                       xlabel=r\"$f$ (MHz)\", ylabel=r'$T_1$ (s)',\n",
    "                       xlim=(1e2, 2e5), ylim=(1, 100))\n",
    "    save_figure(plt, fig, mode, name='tutorials/bulk-water/T1', save=True)"
   ]
  },
  {
   "cell_type": "code",
   "execution_count": null,
   "metadata": {},
   "outputs": [],
   "source": [
    "# Correlation function water - tutorial figure\n",
    "for mode, mygray in zip(['light', 'dark'], [lightgray, darkgray]):\n",
    "    fig = plt.figure(figsize=(16, 8))\n",
    "    ax1 = fig.add_subplot(111)\n",
    "    ax1.loglog(nmr_result.t, nmr_result.gij[0]/nmr_result.gij[0][0], 'o', markersize=8, color=myblue)\n",
    "    figure_improvement(ax1, mygray, font, fontsize,\n",
    "                       xlabel=r\"$t$ (ps)\", ylabel=r'$G^{(0)} (t) / G^{(0)} (0)$',\n",
    "                       xlim=(1, 200), ylim=(0.0001, 1))\n",
    "    save_figure(plt, fig, mode, name='tutorials/bulk-water/Gij', save=True)"
   ]
  },
  {
   "cell_type": "code",
   "execution_count": null,
   "metadata": {},
   "outputs": [],
   "source": [
    "# Separate intra and inter motion\n",
    "nmr_result_intra = nmrmd.NMR(u, group_i, type_analysis=\"intra_molecular\", number_i=120) # 2-3 minutes\n",
    "nmr_result_inter = nmrmd.NMR(u, group_i, type_analysis=\"inter_molecular\", number_i=80) # 3-4 minutes"
   ]
  },
  {
   "cell_type": "code",
   "execution_count": null,
   "metadata": {},
   "outputs": [],
   "source": [
    "f_1 = 2600\n",
    "for mode, mygray in zip(['light', 'dark'], [lightgray, darkgray]):\n",
    "    fig = plt.figure(figsize=(16, 8))\n",
    "    ax1 = fig.add_subplot(111)\n",
    "    ax1.loglog(nmr_result.f[:-f_1], nmr_result.R1[:-f_1], 'o', markersize=8, color=mygray, label=\"Total\")\n",
    "    ax1.loglog(nmr_result_intra.f[:-f_1], nmr_result_intra.R1[:-f_1], '^', markersize=8, color=myred, label=\"Intra-molecular\")\n",
    "    ax1.loglog(nmr_result_inter.f[:-f_1], nmr_result_inter.R1[:-f_1], 's', markersize=8, color=myblue, label=\"Inter-molecular\")\n",
    "    figure_improvement(ax1, mygray, font, fontsize,\n",
    "                       xlabel=r\"$f$ (MHz)\", ylabel=r'$R_1$ (s$^{-1}$)',\n",
    "                       xlim=(1e2, 2e5), ylim=(0.01, 1))\n",
    "    save_figure(plt, fig, mode, name='tutorials/bulk-water/R1-intra-inter', save=True)"
   ]
  },
  {
   "cell_type": "code",
   "execution_count": null,
   "metadata": {},
   "outputs": [],
   "source": [
    "for mode, mygray in zip(['light', 'dark'], [lightgray, darkgray]):\n",
    "    fig = plt.figure(figsize=(16, 8))\n",
    "    ax1 = fig.add_subplot(111)\n",
    "    #ax1.loglog(nmr_result.t, nmr_result.gij[0]/nmr_result.gij[0][0], 'o', markersize=8, color=myblue, label=\"Total\")\n",
    "    ax1.loglog(nmr_result_intra.t, nmr_result_intra.gij[0]/nmr_result.gij[0][0], '^', markersize=8, color=myred, label=\"Intra-molecular\")\n",
    "    ax1.loglog(nmr_result_inter.t, nmr_result_inter.gij[0]/nmr_result.gij[0][0], 's', markersize=8, color=myblue, label=\"Inter-molecular\")\n",
    "    figure_improvement(ax1, mygray, font, fontsize,\n",
    "                       xlabel=r\"$t$ (ps)\", ylabel=r'$G^{(0)} (t) / G^{(0)} (0)$',\n",
    "                       xlim=(1, 500), ylim=(0.00001, 1))\n",
    "    save_figure(plt, fig, mode, name='tutorials/bulk-water/Gij-intra-inter', save=True)"
   ]
  }
 ],
 "metadata": {
  "kernelspec": {
   "display_name": "Python 3.8.10 64-bit",
   "language": "python",
   "name": "python3"
  },
  "language_info": {
   "codemirror_mode": {
    "name": "ipython",
    "version": 3
   },
   "file_extension": ".py",
   "mimetype": "text/x-python",
   "name": "python",
   "nbconvert_exporter": "python",
   "pygments_lexer": "ipython3",
   "version": "3.10.6"
  },
  "vscode": {
   "interpreter": {
    "hash": "916dbcbb3f70747c44a77c7bcd40155683ae19c65e1c03b4aa3499c5328201f1"
   }
  }
 },
 "nbformat": 4,
 "nbformat_minor": 4
}
