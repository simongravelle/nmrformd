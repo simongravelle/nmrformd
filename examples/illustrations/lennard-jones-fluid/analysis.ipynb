{
 "cells": [
  {
   "cell_type": "code",
   "execution_count": null,
   "metadata": {},
   "outputs": [],
   "source": [
    "import numpy as np\n",
    "import MDAnalysis as mda\n",
    "import nmrformd"
   ]
  },
  {
   "cell_type": "code",
   "execution_count": null,
   "metadata": {},
   "outputs": [],
   "source": [
    "import sys, os, git\n",
    "current_path = os.getcwd()\n",
    "git_repo = git.Repo(current_path, search_parent_directories=True)\n",
    "git_path = git_repo.git.rev_parse(\"--show-toplevel\")"
   ]
  },
  {
   "cell_type": "code",
   "execution_count": null,
   "metadata": {},
   "outputs": [],
   "source": [
    "def save_result(data, name = \"intra_H2O\"):\n",
    "    \"\"\"Save the correlation functions in dictionary\"\"\"\n",
    "    if not os.path.exists(\"raw_data/\"):\n",
    "        os.makedirs(\"raw_data/\")\n",
    "    saving_file = \"raw_data/\" + name + \".npy\"\n",
    "    t = data.t\n",
    "    f = data.f\n",
    "    C = data.gij[0]\n",
    "    R1 = data.R1\n",
    "    R2 = data.R2\n",
    "    N = data.group_j.atoms.n_atoms\n",
    "    try:\n",
    "        previous_dictionary = np.load(saving_file, allow_pickle=True)\n",
    "        t_prev = np.real(previous_dictionary.item()[\"t\"])\n",
    "        assert len(t_prev) == len(t)\n",
    "        C_prev = np.real(previous_dictionary.item()[\"C\"])\n",
    "        R1_prev = np.real(previous_dictionary.item()[\"R1\"])\n",
    "        R2_prev = np.real(previous_dictionary.item()[\"R2\"])\n",
    "        N_prev = np.real(previous_dictionary.item()[\"N\"])\n",
    "        C = (C*N + C_prev*N_prev) / (N_prev + N)\n",
    "        R1 = (R1*N + R1_prev*N_prev) / (N_prev + N)\n",
    "        R2 = (R2*N + R2_prev*N_prev) / (N_prev + N)\n",
    "        N += N_prev\n",
    "    except:\n",
    "        pass\n",
    "    dictionary = {\n",
    "    \"t\": t,\n",
    "    \"f\": f,\n",
    "    \"C\": C,\n",
    "    \"N\": N,\n",
    "    \"R1\": R1,\n",
    "    \"R2\": R2,\n",
    "    }\n",
    "    np.save(saving_file, dictionary)\n",
    "    return N"
   ]
  },
  {
   "cell_type": "code",
   "execution_count": null,
   "metadata": {},
   "outputs": [],
   "source": [
    "while 1<2:\n",
    "    for T in [\"0.6\", \"0.8\", \"1.0\", \"1.2\", \"1.4\", \"1.6\", \"1.8\", \"2.0\", \"2.2\", \"2.4\", \"2.6\", \"2.8\", \"3.0\", \"3.2\"]:\n",
    "        datapath = git_path + \"/nmrformd-data/lennard-jones-fluid/raw-data/T\"+T+\"/\"\n",
    "        u = mda.Universe(datapath+\"system.data\", datapath+\"dump.xtc\")\n",
    "        ALL = u.select_atoms(\"all\")\n",
    "        nmr = nmrformd.NMR(u, atom_group = ALL, number_i=1)\n",
    "        N = save_result(nmr, name = \"T\"+T)\n",
    "        if T == \"0.6\":\n",
    "            print(\"Number of cycle:\")"
   ]
  }
 ],
 "metadata": {
  "kernelspec": {
   "display_name": "Python 3",
   "language": "python",
   "name": "python3"
  },
  "language_info": {
   "codemirror_mode": {
    "name": "ipython",
    "version": 3
   },
   "file_extension": ".py",
   "mimetype": "text/x-python",
   "name": "python",
   "nbconvert_exporter": "python",
   "pygments_lexer": "ipython3",
   "version": "3.11.4"
  }
 },
 "nbformat": 4,
 "nbformat_minor": 2
}
