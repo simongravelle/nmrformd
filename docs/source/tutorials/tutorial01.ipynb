{
 "cells": [
  {
   "cell_type": "markdown",
   "metadata": {},
   "source": [
    "Tutorial 1\n",
    "=========="
   ]
  },
  {
   "cell_type": "markdown",
   "metadata": {},
   "source": [
    "In this first tutorial, the NMR relaxation time T1 of water is measured using NMRforMD. \n",
    "[MDAnalysis](https://www.mdanalysis.org), [numpy](https://www.numpy.org), and [matplotlib](https://www.matplotlib.org) and NMRforMD must be installed. \n",
    "\n",
    "The system is a short molecular dynamics trajectory of bulk TIP4P water molecules in the NVT ensemble \n",
    "simulated with [LAMMPS](https://www.lammps.org/) (temperature 20°C). \n",
    "\n",
    "If you want to generate longer trajectory files, the \n",
    "input files are available in this [repository](https://github.com/simongravelle/nmrformd/tree/main/tests)."
   ]
  },
  {
   "cell_type": "markdown",
   "metadata": {},
   "source": [
    "![](https://raw.githubusercontent.com/simongravelle/nmrformd/main/tests/bulk_water/water.png)"
   ]
  },
  {
   "cell_type": "markdown",
   "metadata": {},
   "source": [
    "File preparation\n",
    "----------------\n",
    "\n",
    "Clone the NMRforMD repository:\n",
    "\n",
    "```bash\n",
    "\n",
    "    git clone git@github.com:simongravelle/nmrformd.git\n",
    "\n",
    "```"
   ]
  },
  {
   "cell_type": "markdown",
   "metadata": {},
   "source": [
    "Define a path to the data file:"
   ]
  },
  {
   "cell_type": "code",
   "execution_count": 1,
   "metadata": {},
   "outputs": [],
   "source": [
    "datapath = \"../../../tests/bulk_water/\""
   ]
  },
  {
   "cell_type": "markdown",
   "metadata": {},
   "source": [
    "Import the libraries\n",
    "--------------------\n",
    "\n",
    "Open a Python script, import numpy, MDAnalysis, pyplot, and NMRforMD:"
   ]
  },
  {
   "cell_type": "code",
   "execution_count": 2,
   "metadata": {},
   "outputs": [],
   "source": [
    "import numpy as np\n",
    "import MDAnalysis as mda\n",
    "import nmrformd as nmrmd"
   ]
  },
  {
   "cell_type": "markdown",
   "metadata": {},
   "source": [
    "Create a MDAnalysis universe\n",
    "----------------------------\n",
    "\n",
    "Import the configuration file and the trajectory:"
   ]
  },
  {
   "cell_type": "code",
   "execution_count": 3,
   "metadata": {},
   "outputs": [],
   "source": [
    "u = mda.Universe(datapath+\"conf.data\", datapath+\"traj.xtc\")"
   ]
  },
  {
   "cell_type": "markdown",
   "metadata": {},
   "source": [
    "Let us extract a few information from the universe:"
   ]
  },
  {
   "cell_type": "code",
   "execution_count": 4,
   "metadata": {},
   "outputs": [
    {
     "name": "stdout",
     "output_type": "stream",
     "text": [
      "The number of water molecules is 400\n",
      "The timestep is 1 ps\n",
      "The total simulation time is 1000 ps\n"
     ]
    }
   ],
   "source": [
    "n_molecules = u.atoms.select_atoms(\"type 1\").atoms.n_atoms\n",
    "print(f\"The number of water molecules is {n_molecules}\")\n",
    "timestep = np.int32(u.trajectory.dt)\n",
    "print(f\"The timestep is {timestep} ps\")\n",
    "total_time = np.int32(u.trajectory.totaltime)\n",
    "print(f\"The total simulation time is {total_time} ps\")"
   ]
  },
  {
   "cell_type": "markdown",
   "metadata": {},
   "source": [
    "Run NMRforMD\n",
    "------------\n",
    "\n",
    "Let us isolate a group of atoms containing all the hydrogen atoms of the system:"
   ]
  },
  {
   "cell_type": "code",
   "execution_count": 5,
   "metadata": {},
   "outputs": [],
   "source": [
    "group_i = \"type 2\""
   ]
  },
  {
   "cell_type": "markdown",
   "metadata": {},
   "source": [
    "Then, let us run NMRforMD:"
   ]
  },
  {
   "cell_type": "code",
   "execution_count": 6,
   "metadata": {},
   "outputs": [],
   "source": [
    "nmr_result = nmrmd.NMR(u, [group_i, group_i], number_i=40)"
   ]
  },
  {
   "cell_type": "markdown",
   "metadata": {},
   "source": [
    "With 'number_i = 40', only 40 randomly selected atoms within 'group_i' are considered for the calculation. Increase this number for better resolution. Use 'number_i = 0' to consider all the atoms."
   ]
  },
  {
   "cell_type": "markdown",
   "metadata": {},
   "source": [
    "Extract T1/T2\n",
    "-------------\n",
    "\n",
    "Access the calculated value of NMR relaxation time T1:"
   ]
  },
  {
   "cell_type": "code",
   "execution_count": 7,
   "metadata": {},
   "outputs": [
    {
     "name": "stdout",
     "output_type": "stream",
     "text": [
      "NMR relaxation time T1 = 2.52 s\n"
     ]
    }
   ],
   "source": [
    "T1 = np.round(nmr_result.T1,2)\n",
    "print(f\"NMR relaxation time T1 = {T1} s\")"
   ]
  },
  {
   "cell_type": "markdown",
   "metadata": {},
   "source": [
    "Plot the spectrum and the correlation functions\n",
    "-----------------------------------------------"
   ]
  },
  {
   "cell_type": "code",
   "execution_count": 8,
   "metadata": {},
   "outputs": [],
   "source": [
    "from matplotlib import pyplot as plt"
   ]
  },
  {
   "cell_type": "code",
   "execution_count": 9,
   "metadata": {},
   "outputs": [],
   "source": [
    "fontsize = 20\n",
    "font = {'color':  'black', 'weight': 'normal', 'size': fontsize}\n",
    "plt.rcParams.update({\n",
    "    \"text.usetex\": True,\n",
    "    \"font.family\": \"serif\",\n",
    "    \"font.serif\": [\"Palatino\"],\n",
    "})"
   ]
  },
  {
   "cell_type": "code",
   "execution_count": 10,
   "metadata": {},
   "outputs": [
    {
     "data": {
      "image/png": "[encoded data removed]",
      "text/plain": [
       "<Figure size 1008x504 with 2 Axes>"
      ]
     },
     "metadata": {
      "needs_background": "light"
     },
     "output_type": "display_data"
    }
   ],
   "source": [
    "fig = plt.figure(figsize=(14,7))\n",
    "ax1 = plt.subplot(1, 2, 1)\n",
    "ax1.loglog(nmr_result.f[:-250], 1/nmr_result.R1[:-250], 'o', markersize=8)\n",
    "ax1.set_xlabel(r\"$f$ (MHz)\", fontdict=font)\n",
    "ax1.set_ylabel(r'$T_1$ (s)', fontdict=font)\n",
    "ax1.spines[\"top\"].set_linewidth(2)\n",
    "ax1.spines[\"bottom\"].set_linewidth(2)\n",
    "ax1.spines[\"left\"].set_linewidth(2)\n",
    "ax1.spines[\"right\"].set_linewidth(2)\n",
    "ax1.tick_params(axis='x', which='major', pad=10)\n",
    "ax1.tick_params(axis='y', which='major', pad=10)\n",
    "ax1.minorticks_on()\n",
    "ax1.tick_params('both', length=10, width=2, which='major', direction='in')\n",
    "ax1.tick_params('both', length=6, width=1.4, which='minor', direction='in')\n",
    "ax1.xaxis.set_ticks_position('both')\n",
    "ax1.yaxis.set_ticks_position('both')\n",
    "plt.xticks(fontsize=fontsize)\n",
    "plt.yticks(fontsize=fontsize)\n",
    "plt.xlim(5e2, 5e5)\n",
    "plt.ylim(1, 100)\n",
    "ax2 = plt.subplot(1, 2, 2)\n",
    "ax2.semilogx(nmr_result.t[:-250], nmr_result.gij[0][:-250], 'o', markersize=8)\n",
    "ax2.set_xlabel(r\"$t$ (ps)\", fontdict=font)\n",
    "ax2.set_ylabel(r'$C$', fontdict=font)\n",
    "ax2.spines[\"top\"].set_linewidth(2)\n",
    "ax2.spines[\"bottom\"].set_linewidth(2)\n",
    "ax2.spines[\"left\"].set_linewidth(2)\n",
    "ax2.spines[\"right\"].set_linewidth(2)\n",
    "ax2.tick_params(axis='x', which='major', pad=10)\n",
    "ax2.tick_params(axis='y', which='major', pad=10)\n",
    "ax2.minorticks_on()\n",
    "ax2.tick_params('both', length=10, width=2, which='major', direction='in')\n",
    "ax2.tick_params('both', length=6, width=1.4, which='minor', direction='in')\n",
    "ax2.xaxis.set_ticks_position('both')\n",
    "ax2.yaxis.set_ticks_position('both')\n",
    "plt.xticks(fontsize=fontsize)\n",
    "plt.yticks(fontsize=fontsize)\n",
    "plt.xlim(5e-1, 5e2)\n",
    "plt.ylim(-0.5e10, 5e10)\n",
    "fig.tight_layout()\n",
    "plt.show()"
   ]
  }
 ],
 "metadata": {
  "kernelspec": {
   "display_name": "Python 3.8.10 64-bit",
   "language": "python",
   "name": "python3"
  },
  "language_info": {
   "codemirror_mode": {
    "name": "ipython",
    "version": 3
   },
   "file_extension": ".py",
   "mimetype": "text/x-python",
   "name": "python",
   "nbconvert_exporter": "python",
   "pygments_lexer": "ipython3",
   "version": "3.8.10"
  },
  "vscode": {
   "interpreter": {
    "hash": "916dbcbb3f70747c44a77c7bcd40155683ae19c65e1c03b4aa3499c5328201f1"
   }
  }
 },
 "nbformat": 4,
 "nbformat_minor": 4
}
