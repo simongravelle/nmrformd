{
 "cells": [
  {
   "cell_type": "markdown",
   "metadata": {},
   "source": [
    "Isotropic systems\n",
    "================="
   ]
  },
  {
   "cell_type": "markdown",
   "metadata": {},
   "source": [
    "NMR relaxation time $T_1$ is calculated from \n",
    "the autocorrelation function of fluctuating magnetic \n",
    "dipole-dipole interactions (see [mcconnell1987](https://www.cambridge.org/de/academic/subjects/physics/condensed-matter-physics-nanoscience-and-mesoscopic-physics/theory-nuclear-magnetic-relaxation-liquids?format=PB&isbn=9780521107716) and [bloembergen1948](https://journals.aps.org/pr/abstract/10.1103/PhysRev.73.679) for more details),\n",
    "\\begin{equation}\n",
    "G_\\text{R,T} (t) = \\dfrac{1}{N_\\text{R,T}} \\sum_{i \\ne j}^{N_\\text{R,T}} \n",
    "\\left< {\\cal F}_{ij} (t + \\tau) \n",
    "{\\cal F}_{ij} (\\tau)  \\right>,\n",
    "\\end{equation}\n",
    "where $\\tau$ is the lag time.\n",
    "Here $N_\\text{R}$ and $N_\\text{T}$ \n",
    "correspond to partial ensembles for intramolecular and itermolecular interactions,\n",
    "respectively, where R stands for rotational and T for translational (see [singer17a](https://www.sciencedirect.com/science/article/pii/S1090780717300319) for more details). The ensemble average is performed by a \n",
    "double summation over spin pair $i$ and $j$ with $i \\ne j$."
   ]
  },
  {
   "cell_type": "markdown",
   "metadata": {},
   "source": [
    "The function ${\\cal F}_{ij} (t)$ reads\n",
    "\\begin{equation}\n",
    "{\\cal F}_{ij} (t) = \\sqrt{\\dfrac{16}{5 \\pi}} \\dfrac{Y^0_2 (\\theta_{ij} (t))}{r_{ij}^3 (t)},\n",
    "\\end{equation}\n",
    "where $Y^0_2$ is the normalised spherical harmonics with $\\ell = 2$ and $m = 0$,\n",
    "$r_{ij} (t)$ the nuclear spin separation, and $\\theta_{ij} (t)$ the polar angle\n",
    "of the direction $\\textbf{r}_{ij}$ with respect to laboratory axes (assuming that \n",
    "the applied static magnetic is parallel to $\\textbf{e}_z$)."
   ]
  },
  {
   "cell_type": "markdown",
   "metadata": {},
   "source": [
    "\n",
    "NMR relaxation times are calculated using\n",
    "\\begin{equation}\n",
    "\\dfrac{1}{T_{1, \\text{R}, \\text{T}}} = K \\left(J_\\text{R,T} (\\omega_0) + 4 J_\\text{R,T} (2 \\omega_0) \\right),\n",
    "\\end{equation}\n",
    "were $\\omega_0 = \\gamma B_0$ is the Larmor frequency with $\\gamma$ the\n",
    "gyro-magnetic ratio for $^1$H with spin $I = 1/2$, and \n",
    "\\begin{equation}\n",
    "K = \\dfrac{1}{4}\\left(\\dfrac{\\mu_0}{4 \\pi}\\right)^2 \\hbar^2 \\gamma^4 I (I+1),\n",
    "\\end{equation}\n",
    "where $\\mu_0$ is the vacuum permeability. In Eq.\\,\\eqref{eq:T1RT}, $J_\\text{R,T}$\n",
    "is the spectral densities calculated as the Fourier transform of $G_\\text{R,T}$,\n",
    "and the final expression for $T_1$ reads:\n",
    "\\begin{equation}\n",
    "\\dfrac{1}{T_{1}} = \\dfrac{1}{T_{1, \\text{R}}}+\\dfrac{1}{T_{1, \\text{T}}}.\n",
    "\\end{equation}"
   ]
  }
 ],
 "metadata": {
  "kernelspec": {
   "display_name": "Python 3.8.10 64-bit",
   "language": "python",
   "name": "python3"
  },
  "language_info": {
   "codemirror_mode": {
    "name": "ipython",
    "version": 3
   },
   "file_extension": ".py",
   "mimetype": "text/x-python",
   "name": "python",
   "nbconvert_exporter": "python",
   "pygments_lexer": "ipython3",
   "version": "3.8.10"
  },
  "vscode": {
   "interpreter": {
    "hash": "916dbcbb3f70747c44a77c7bcd40155683ae19c65e1c03b4aa3499c5328201f1"
   }
  }
 },
 "nbformat": 4,
 "nbformat_minor": 4
}
