{
 "cells": [
  {
   "cell_type": "code",
   "execution_count": 1,
   "metadata": {},
   "outputs": [],
   "source": [
    "import sys\n",
    "import random\n",
    "import readlammps\n",
    "import numpy as np\n",
    "import matplotlib.pyplot as plt\n",
    "from copy import copy, deepcopy\n",
    "from scipy.spatial import distance"
   ]
  },
  {
   "cell_type": "code",
   "execution_count": 2,
   "metadata": {},
   "outputs": [],
   "source": [
    "sys.path.append('/home/simon/Git/python-for-lammps')\n",
    "sys.path.append(\"/tikhome/sgravelle/Git/python-for-lammps\")\n",
    "sys.path.append(\"./\")\n",
    "from utils import generate_random_location, generate_random_orientation, \\\n",
    "                  search_closest_neighbor"
   ]
  },
  {
   "cell_type": "code",
   "execution_count": 4,
   "metadata": {},
   "outputs": [],
   "source": [
    "data_path = \"silica_surfaces/\"\n",
    "data_files = [\"silica_Q3_4_7OH_0pct_ion.lammps05\", \n",
    "             \"silica_Q3_4_7OH_5pct_ion.lammps05\",\n",
    "             \"silica_Q3_4_7OH_9pct_ion.lammps05\",\n",
    "             \"silica_Q3_4_7OH_14pct_ion.lammps05\",\n",
    "             \"silica_Q3_4_7OH_18pct_ion.lammps05\",\n",
    "             \"silica_Q3_4_7OH_27pct_ion.lammps05\",\n",
    "             \"silica_Q3_4_7OH_50pct_ion.lammps05\"]"
   ]
  },
  {
   "cell_type": "markdown",
   "metadata": {},
   "source": [
    "## initialise"
   ]
  },
  {
   "cell_type": "code",
   "execution_count": 5,
   "metadata": {},
   "outputs": [],
   "source": [
    "cpt_atom = 0\n",
    "cpt_na = 0\n",
    "cpt_cl = 0\n",
    "cpt_h2o = 0\n",
    "atom_XYZ = []\n",
    "atom_type = []\n",
    "atom_id = []\n",
    "atom_charge = []\n",
    "atom_mass = []\n",
    "atom_name = []\n",
    "residue_number = []\n",
    "residue_name = []"
   ]
  },
  {
   "cell_type": "markdown",
   "metadata": {},
   "source": [
    "## import silica and counter ions"
   ]
  },
  {
   "cell_type": "code",
   "execution_count": 6,
   "metadata": {},
   "outputs": [],
   "source": [
    "id_silica = 4\n",
    "silica_info = readlammps.ReadLammpsData(data_path+data_files[id_silica], \n",
    "                                        verbose=False)\n",
    "silica_width = np.max(silica_info.coords.T[2])-np.min(silica_info.coords.T[2])"
   ]
  },
  {
   "cell_type": "markdown",
   "metadata": {},
   "source": [
    "## initial box dimension"
   ]
  },
  {
   "cell_type": "code",
   "execution_count": 7,
   "metadata": {},
   "outputs": [],
   "source": [
    "Lx = silica_info.box_dimensions[0][1] # Angstrom\n",
    "Ly = silica_info.box_dimensions[1][1] # Angstrom\n",
    "Lz = 50 # Angstrom"
   ]
  },
  {
   "cell_type": "markdown",
   "metadata": {},
   "source": [
    "## place silica"
   ]
  },
  {
   "cell_type": "code",
   "execution_count": 7,
   "metadata": {},
   "outputs": [],
   "source": [
    "name_SiOH = ['O', 'O', 'Si', 'H']\n",
    "type_SiOH = ['OC23', 'OC24', 'SC4', 'HOY']\n",
    "mass_SiOH = [15.999, 15.999, 28.086, 1.008]\n",
    "for cpt, id_atom in enumerate(silica_info.atom_labels):\n",
    "    if id_atom <= 4: # exclude Na ions\n",
    "        atom_XYZ.append(silica_info.coords[cpt]+[0, 0, -silica_width/2])\n",
    "        atom_type.append(type_SiOH[id_atom-1])\n",
    "        atom_id.append(cpt_atom+1)\n",
    "        atom_charge.append(silica_info.atom_charges[cpt])\n",
    "        atom_mass.append(mass_SiOH[id_atom-1])\n",
    "        atom_name.append(name_SiOH[id_atom-1])\n",
    "        residue_number.append(1)\n",
    "        residue_name.append(\"SiOH\")\n",
    "        cpt_atom += 1"
   ]
  },
  {
   "cell_type": "markdown",
   "metadata": {},
   "source": [
    "## place counter ions"
   ]
  },
  {
   "cell_type": "code",
   "execution_count": 8,
   "metadata": {},
   "outputs": [],
   "source": [
    "name_Na = ['Na']\n",
    "type_Na = ['Na']\n",
    "mass_Na = [22.99]\n",
    "for cpt, id_atom in enumerate(silica_info.atom_labels):\n",
    "    if id_atom == 5: # only Na ions\n",
    "        atom_XYZ.append(silica_info.coords[cpt]+[0, 0, -silica_width/2])\n",
    "        atom_type.append('Na')\n",
    "        atom_id.append(cpt_atom+1)\n",
    "        atom_name.append('Na')\n",
    "        residue_number.append(2+cpt_na)\n",
    "        residue_name.append(\"Na\")\n",
    "        cpt_atom += 1\n",
    "        cpt_na += 1"
   ]
  },
  {
   "cell_type": "markdown",
   "metadata": {},
   "source": [
    "## define water"
   ]
  },
  {
   "cell_type": "code",
   "execution_count": 9,
   "metadata": {},
   "outputs": [],
   "source": [
    "H2O_XYZ = np.array([[0, 0, 0], \\\n",
    "       [0.5858,   0.757, 0.0], \\\n",
    "       [0.5858,   -0.757,  0.0], \\\n",
    "       [0.104,  0.0, 0.0]])\n",
    "H2O_type = ['OW', 'HW1', 'HW2', 'MW']"
   ]
  },
  {
   "cell_type": "markdown",
   "metadata": {},
   "source": [
    "## place water"
   ]
  },
  {
   "cell_type": "code",
   "execution_count": 10,
   "metadata": {},
   "outputs": [],
   "source": [
    "# random placement\n",
    "# cut_off = 2 # Angstrom\n",
    "#failled_insert = 0\n",
    "#while failled_insert<5000:\n",
    "#    x, y, z = generate_random_location(Lx, Ly, Lz, recenter = False)\n",
    "#    H2O_XYZ = generate_random_orientation(H2O_XYZ)\n",
    "#    min_distance = search_closest_neighbor(np.array(atom_XYZ),\n",
    "#                                          H2O_XYZ + [x, y, z],\n",
    "#                                          Lx, Ly, Lz)\n",
    "#    if min_distance > cut_off:\n",
    "#        cpt_h2o += 1\n",
    "#        for cpt in range(len(H2O_type)):\n",
    "#            atom_XYZ.append(H2O_XYZ[cpt]+ [x, y, z])\n",
    "#            atom_type.append(H2O_type[cpt])\n",
    "#            atom_id.append(cpt_atom+1)\n",
    "#            atom_name.append(H2O_type[cpt])\n",
    "#            residue_number.append(1+cpt_na+cpt_h2o)\n",
    "#            residue_name.append(\"SOL\")\n",
    "#            cpt_atom += 1     \n",
    "#    else:\n",
    "#        failled_insert += 1"
   ]
  },
  {
   "cell_type": "code",
   "execution_count": 11,
   "metadata": {},
   "outputs": [],
   "source": [
    "cut_off = 2 # Angstrom\n",
    "delta = 2.9\n",
    "# ordered placement\n",
    "for x in np.arange(0, Lx, delta):\n",
    "    for y in np.arange(0, Ly, delta):\n",
    "        for z in np.arange(0, Lz, delta):\n",
    "            dx, dy, dz = generate_random_location(0.1, 0.1, 0.1, recenter = True)\n",
    "            H2O_XYZ = generate_random_orientation(H2O_XYZ)\n",
    "            min_distance = search_closest_neighbor(np.array(atom_XYZ),\n",
    "                                                   H2O_XYZ + [x, y, z] + [dx, dy, dz],\n",
    "                                                   Lx, Ly, Lz)\n",
    "            if min_distance > cut_off:\n",
    "                cpt_h2o += 1\n",
    "                for cpt in range(len(H2O_type)):\n",
    "                    atom_XYZ.append(H2O_XYZ[cpt]+ [x, y, z])\n",
    "                    atom_type.append(H2O_type[cpt])\n",
    "                    atom_id.append(cpt_atom+1)\n",
    "                    atom_name.append(H2O_type[cpt])\n",
    "                    residue_number.append(1+cpt_na+cpt_h2o)\n",
    "                    residue_name.append(\"SOL\")\n",
    "                    cpt_atom += 1  "
   ]
  },
  {
   "cell_type": "code",
   "execution_count": 12,
   "metadata": {},
   "outputs": [
    {
     "name": "stdout",
     "output_type": "stream",
     "text": [
      "639 inserted water molecules\n",
      "final wall distance ~ 1.64 nm\n",
      "salt concentration = 1.74 M\n"
     ]
    }
   ],
   "source": [
    "print(str(cpt_h2o) + \" inserted water molecules\")\n",
    "vol_water = cpt_h2o/6.022e23*0.018 # kg or litter\n",
    "h_estimated = vol_water/1e3 / (Lx*1e-10)/(Ly*1e-10)*1e9\n",
    "print(\"final wall distance ~ \" + str(np.round(h_estimated,2))+\" nm\")\n",
    "quantity_ion = (cpt_cl+cpt_na)/6.022e23 # mol\n",
    "concentration_ion = quantity_ion/vol_water # mol/kg\n",
    "print('salt concentration = '+str(np.round(concentration_ion,2))+' M')"
   ]
  },
  {
   "cell_type": "markdown",
   "metadata": {},
   "source": [
    "## write conf.gro"
   ]
  },
  {
   "cell_type": "code",
   "execution_count": 37,
   "metadata": {},
   "outputs": [],
   "source": [
    "f = open('conf.gro', 'w')\n",
    "f.write('Silica slit with water and counter ions\\n')\n",
    "f.write(str(cpt_atom)+\"\\n\")\n",
    "for cpt in range(cpt_atom):\n",
    "    # residue number (5 positions, integer) \n",
    "    f.write(\"{: >5}\".format(str(residue_number[cpt])))\n",
    "    # residue name (5 characters) \n",
    "    f.write(\"{: >5}\".format(str(residue_name[cpt])))\n",
    "    # atom name (5 characters) \n",
    "    f.write(\"{: >5}\".format(str(atom_name[cpt])))\n",
    "    # atom number (5 positions, integer)\n",
    "    f.write(\"{: >5}\".format(str(atom_id[cpt]))) \n",
    "    # position (in nm, x y z in 3 columns, each 8 positions \n",
    "    #with 3 decimal places)\n",
    "    f.write(\"{: >8}\".format(str(\"{:.3f}\".format(atom_XYZ[cpt][0]/10))))\n",
    "    f.write(\"{: >8}\".format(str(\"{:.3f}\".format(atom_XYZ[cpt][1]/10))))\n",
    "    f.write(\"{: >8}\".format(str(\"{:.3f}\".format(atom_XYZ[cpt][2]/10))))\n",
    "    f.write(\"\\n\")\n",
    "f.write(\"{: >10}\".format(str(\"{:.5f}\".format(Lx/10))))\n",
    "f.write(\"{: >10}\".format(str(\"{:.5f}\".format(Ly/10))))\n",
    "f.write(\"{: >10}\".format(str(\"{:.5f}\".format(Lz/10))))\n",
    "f.close()"
   ]
  },
  {
   "cell_type": "markdown",
   "metadata": {},
   "source": [
    "## write topol.top"
   ]
  },
  {
   "cell_type": "code",
   "execution_count": 38,
   "metadata": {},
   "outputs": [],
   "source": [
    "f = open('topol.top', 'w')\n",
    "f.write('#include \"ff/forcefield.itp\"\\n')\n",
    "f.write('#include \"ff/silica.itp\"\\n')\n",
    "f.write('#include \"ff/tip4peps.itp\"\\n')\n",
    "f.write('#include \"ff/ions.itp\"\\n\\n')\n",
    "f.write('[ System ]\\n')\n",
    "f.write('Silica slit with water and counter ions\\n\\n')\n",
    "f.write('[ Molecules ]\\n\\n')\n",
    "f.write('SiOH 1\\n')\n",
    "if cpt_na>0:\n",
    "    f.write('NA '+ str(cpt_na)+'\\n')\n",
    "if cpt_cl>0:\n",
    "    f.write('CL '+ str(cptCl)+'\\n')\n",
    "f.write('SOL '+ str(cpt_h2o)+'\\n')\n",
    "f.close()"
   ]
  },
  {
   "cell_type": "markdown",
   "metadata": {},
   "source": [
    "## re-number bond and angle"
   ]
  },
  {
   "cell_type": "code",
   "execution_count": 106,
   "metadata": {},
   "outputs": [],
   "source": [
    "prev_bond = silica_info.bonds\n",
    "new_bond = deepcopy(prev_bond)\n",
    "new_id = 0\n",
    "for cpt, old_id in enumerate(silica_info.atom_ids):\n",
    "    label = silica_info.atom_labels[cpt]\n",
    "    if label <= 4:\n",
    "        new_id += 1\n",
    "        where_to_replace = np.where(prev_bond.T[0] == old_id)\n",
    "        if len(where_to_replace[0]) > 0:\n",
    "            for line in where_to_replace[0]:\n",
    "                new_bond[line,0] = new_id\n",
    "        where_to_replace = np.where(prev_bond.T[1] == old_id)\n",
    "        if len(where_to_replace[0]) > 0:\n",
    "            for line in where_to_replace[0]:\n",
    "                new_bond[line,1] = new_id \n",
    "silica_info.bonds = new_bond"
   ]
  },
  {
   "cell_type": "code",
   "execution_count": null,
   "metadata": {},
   "outputs": [],
   "source": [
    "prev_angle = silica_info.angles\n",
    "new_angle = deepcopy(prev_angle)\n",
    "new_id = 0\n",
    "for cpt, old_id in enumerate(silica_info.atom_ids):\n",
    "    label = silica_info.atom_labels[cpt]\n",
    "    if label <= 4:\n",
    "        new_id += 1\n",
    "        where_to_replace = np.where(prev_angle.T[0] == old_id)\n",
    "        if len(where_to_replace[0]) > 0:\n",
    "            for line in where_to_replace[0]:\n",
    "                new_angle[line,0] = new_id\n",
    "        where_to_replace = np.where(prev_angle.T[1] == old_id)\n",
    "        if len(where_to_replace[0]) > 0:\n",
    "            for line in where_to_replace[0]:\n",
    "                new_angle[line,1] = new_id \n",
    "        where_to_replace = np.where(prev_angle.T[2] == old_id)\n",
    "        if len(where_to_replace[0]) > 0:\n",
    "            for line in where_to_replace[0]:\n",
    "                new_angle[line,2] = new_id \n",
    "silica_info.angles = new_angle"
   ]
  },
  {
   "cell_type": "markdown",
   "metadata": {},
   "source": [
    "## write silica force field "
   ]
  },
  {
   "cell_type": "code",
   "execution_count": 107,
   "metadata": {},
   "outputs": [],
   "source": [
    "f = open('silica.itp','w')\n",
    "\n",
    "f.write('[ atomtypes]\\n')\n",
    "f.write(';name at.num\tmass\tcharge\tptype\tsigma\tepsilon\\n');\n",
    "f.write('OC23\t8\t15.99940\t0.000000\tA\t0.309141855195\t0.225936 \\n');\n",
    "f.write('SC4\t14\t28.08600\t0.000000\tA\t0.369722968028\t0.389112\\n ')\n",
    "f.write('HOY\t1\t1.008000\t0.000000\tA\t0.096662510918\t0.062760\\n ')\n",
    "f.write('OC24\t8\t15.99940\t0.000000\tA\t0.309141855195\t0.510448\\n\\n ')\n",
    "\n",
    "f.write('[ bondtypes ]\\n')\n",
    "f.write('; i\tj\tfunc\tb0\tkb\\n')\n",
    "f.write('SC4\tOC23\t1\t0.1680\t238488.00\\n')\n",
    "f.write('SC4\tOC24\t1\t0.1680\t238488.00\\n')\n",
    "f.write('OC24\tHOY\t1\t0.0945\t414216.00\\n\\n')\n",
    "\n",
    "f.write('[ angletypes ]\\n')\n",
    "f.write('; i\tj\tk\tfunc\tth0\tcth\\n')\n",
    "f.write('SC4\tOC23\tSC4\t5\t149.00\t836.8000\t0.0\t0.0\\n')\n",
    "f.write('SC4\tOC24\tHOY\t5\t115.00\t418.4000\t0.0\t0.0\\n')\n",
    "f.write('OC23\tSC4\tOC24\t5\t109.50\t836.8000\t0.0\t0.0\\n')\n",
    "f.write('OC23\tSC4\tOC23\t5\t109.50\t836.8000\t0.0\t0.0\\n\\n')\n",
    "\n",
    "f.write('[ moleculetype ]\\n')\n",
    "f.write('; molname    nrexcl\\n')\n",
    "f.write('SiOH    3\\n')\n",
    "\n",
    "f.write('\\n')\n",
    "f.write('[ atoms ]\\n')\n",
    "f.write(';   nr       type  resnr residue  atom   cgnr     charge       mass\\n')\n",
    "for cpt in range(len(atom_mass)):\n",
    "    f.write(\"{: >6}\".format(str(atom_id[cpt])))\n",
    "    f.write(\"{: >11}\".format(str(atom_type[cpt])))\n",
    "    f.write(\"{: >7}\".format(str(residue_number[cpt])))\n",
    "    f.write(\"{: >7}\".format(str(residue_name[cpt])))\n",
    "    f.write(\"{: >7}\".format(str(atom_name[cpt])))\n",
    "    f.write(\"{: >7}\".format(str(atom_id[cpt])))\n",
    "    f.write(\"{: >11}\".format(str(atom_charge[cpt])))\n",
    "    f.write(\"{: >11}\".format(str(atom_mass[cpt])))\n",
    "    f.write('\\n')\n",
    "\n",
    "f.write('\\n')\n",
    "f.write('[ bonds ]\\n');\n",
    "f.write(';  ai    aj funct            c0            c1            c2            c3\\n');\n",
    "for cpt, bond in enumerate(silica_info.bonds):\n",
    "    f.write(\"{: >5}\".format(str(bond[0])))\n",
    "    f.write(\"{: >5}\".format(str(bond[1])))\n",
    "    f.write(\"{: >6}\".format(str(1)))\n",
    "    f.write('\\n')\n",
    "\n",
    "f.write('\\n')\n",
    "f.write('[ angles ]\\n');\n",
    "f.write(';  ai    aj funct            c0            c1            c2            c3\\n');\n",
    "for cpt, angle in enumerate(silica_info.angles):\n",
    "    f.write(\"{: >5}\".format(str(angle[0])))\n",
    "    f.write(\"{: >5}\".format(str(angle[1])))\n",
    "    f.write(\"{: >5}\".format(str(angle[2])))\n",
    "    f.write(\"{: >6}\".format(str(5)))\n",
    "    f.write('\\n')     \n",
    "\n",
    "f.write('\\n')\n",
    "f.write('; Include Position restraint file\\n')\n",
    "f.write('#ifdef POSRES\\n')\n",
    "f.write('#include \"posre_SiOH.itp\"\\n')\n",
    "f.write('#endif\\n')\n",
    "f.close()"
   ]
  },
  {
   "cell_type": "markdown",
   "metadata": {},
   "source": [
    "## write posres"
   ]
  },
  {
   "cell_type": "code",
   "execution_count": null,
   "metadata": {},
   "outputs": [],
   "source": [
    "f = open('posre_SiOH.itp', 'w')\n",
    "f.write('; position restraints for silica in water\\n\\n')\n",
    "f.write('[ position_restraints ]\\n')\n",
    "f.write(';  i funct       fcx        fcy        fcz\\n')\n",
    "for cpt in range(len(atom_mass)):\n",
    "    f.write(\"{: >4}\".format(str(atom_id[cpt])))\n",
    "    f.write(\"{: >5}\".format(str(1)))\n",
    "    f.write(\"{: >11}\".format(str(0)))\n",
    "    f.write(\"{: >11}\".format(str(0)))\n",
    "    f.write(\"{: >11}\".format(str(1000)))\n",
    "    f.write('\\n')\n",
    "f.close()"
   ]
  }
 ],
 "metadata": {
  "kernelspec": {
   "display_name": "Python 3",
   "language": "python",
   "name": "python3"
  },
  "language_info": {
   "codemirror_mode": {
    "name": "ipython",
    "version": 3
   },
   "file_extension": ".py",
   "mimetype": "text/x-python",
   "name": "python",
   "nbconvert_exporter": "python",
   "pygments_lexer": "ipython3",
   "version": "3.8.10"
  }
 },
 "nbformat": 4,
 "nbformat_minor": 2
}
