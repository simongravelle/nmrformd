{
 "cells": [
  {
   "cell_type": "code",
   "execution_count": 7,
   "metadata": {},
   "outputs": [],
   "source": [
    "import readlammps\n",
    "import numpy as np\n",
    "data = readlammps.ReadLammpsData(\"silica_Q3_4_7OH_0pct_ion.lammps05\", verbose = False)"
   ]
  },
  {
   "cell_type": "code",
   "execution_count": null,
   "metadata": {},
   "outputs": [],
   "source": []
  },
  {
   "cell_type": "code",
   "execution_count": 8,
   "metadata": {},
   "outputs": [
    {
     "data": {
      "text/plain": [
       "-1.7763568394002505e-15"
      ]
     },
     "execution_count": 8,
     "metadata": {},
     "output_type": "execute_result"
    }
   ],
   "source": [
    "np.sum(data.atom_charges)"
   ]
  },
  {
   "cell_type": "code",
   "execution_count": 23,
   "metadata": {},
   "outputs": [
    {
     "data": {
      "text/plain": [
       "array([-0.675, -0.55 ,  0.4  ,  1.1  ])"
      ]
     },
     "execution_count": 23,
     "metadata": {},
     "output_type": "execute_result"
    }
   ],
   "source": [
    "np.unique(data.atom_charges)"
   ]
  },
  {
   "cell_type": "code",
   "execution_count": 16,
   "metadata": {},
   "outputs": [
    {
     "name": "stdout",
     "output_type": "stream",
     "text": [
      "112\n",
      "44.800000000000004\n"
     ]
    }
   ],
   "source": [
    "# hydrogen total charge\n",
    "print(np.sum(data.atom_charges == 0.4))\n",
    "print(np.sum(data.atom_charges == 0.4) * 0.4)"
   ]
  },
  {
   "cell_type": "code",
   "execution_count": 17,
   "metadata": {},
   "outputs": [
    {
     "name": "stdout",
     "output_type": "stream",
     "text": [
      "112\n",
      "-75.60000000000001\n"
     ]
    }
   ],
   "source": [
    "# surface oxygen total charge\n",
    "print(np.sum(data.atom_charges == -0.675))\n",
    "print(np.sum(data.atom_charges == -0.675) * -0.675)"
   ]
  },
  {
   "cell_type": "code",
   "execution_count": 19,
   "metadata": {},
   "outputs": [
    {
     "name": "stdout",
     "output_type": "stream",
     "text": [
      "1288\n",
      "-708.4000000000001\n"
     ]
    }
   ],
   "source": [
    "# bulk oxygen total charge\n",
    "print(np.sum(data.atom_charges == -0.55))\n",
    "print(np.sum(data.atom_charges == -0.55) * -0.55)"
   ]
  },
  {
   "cell_type": "code",
   "execution_count": 20,
   "metadata": {},
   "outputs": [
    {
     "name": "stdout",
     "output_type": "stream",
     "text": [
      "672\n",
      "739.2\n"
     ]
    }
   ],
   "source": [
    "# bulk silica total charge\n",
    "print(np.sum(data.atom_charges == 1.1))\n",
    "print(np.sum(data.atom_charges == 1.1) * 1.1)"
   ]
  },
  {
   "cell_type": "code",
   "execution_count": 22,
   "metadata": {},
   "outputs": [
    {
     "name": "stdout",
     "output_type": "stream",
     "text": [
      "0\n",
      "-0.0\n"
     ]
    }
   ],
   "source": [
    "# surface silica total charge\n",
    "print(np.sum(data.atom_charges == -0.9))\n",
    "print(np.sum(data.atom_charges == -0.9) * -0.9)"
   ]
  },
  {
   "cell_type": "code",
   "execution_count": 24,
   "metadata": {},
   "outputs": [
    {
     "data": {
      "text/plain": [
       "1.1368683772161603e-13"
      ]
     },
     "execution_count": 24,
     "metadata": {},
     "output_type": "execute_result"
    }
   ],
   "source": [
    "44.8-75.6-708.4+739.2"
   ]
  },
  {
   "cell_type": "code",
   "execution_count": null,
   "metadata": {},
   "outputs": [],
   "source": []
  }
 ],
 "metadata": {
  "kernelspec": {
   "display_name": "Python 3",
   "language": "python",
   "name": "python3"
  },
  "language_info": {
   "codemirror_mode": {
    "name": "ipython",
    "version": 3
   },
   "file_extension": ".py",
   "mimetype": "text/x-python",
   "name": "python",
   "nbconvert_exporter": "python",
   "pygments_lexer": "ipython3",
   "version": "3.8.10"
  }
 },
 "nbformat": 4,
 "nbformat_minor": 4
}
