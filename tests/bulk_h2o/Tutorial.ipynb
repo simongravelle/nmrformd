{
 "cells": [
  {
   "cell_type": "code",
   "execution_count": 13,
   "metadata": {},
   "outputs": [],
   "source": [
    "import numpy as np\n",
    "import nmrformd as NMR\n",
    "import MDAnalysis as mda\n",
    "import matplotlib.pyplot as plt"
   ]
  },
  {
   "cell_type": "code",
   "execution_count": 3,
   "metadata": {},
   "outputs": [],
   "source": [
    "u = mda.Universe(\"topology.tpr\",\"trajectory.xtc\")"
   ]
  },
  {
   "cell_type": "code",
   "execution_count": 4,
   "metadata": {},
   "outputs": [
    {
     "name": "stdout",
     "output_type": "stream",
     "text": [
      "The number of water molecules is 400\n",
      "The timestep is 0.2 ps\n",
      "The total simulation time is 100.0 ps\n"
     ]
    }
   ],
   "source": [
    "n_molecules = u.atoms.select_atoms(\"type OW\").atoms.n_atoms\n",
    "print(f\"The number of water molecules is {n_molecules}\")\n",
    "timestep = np.round(u.trajectory.dt,2)\n",
    "print(f\"The timestep is {timestep} ps\")\n",
    "total_time = np.round(u.trajectory.totaltime,2)\n",
    "print(f\"The total simulation time is {total_time} ps\")"
   ]
  },
  {
   "cell_type": "code",
   "execution_count": 5,
   "metadata": {},
   "outputs": [],
   "source": [
    "group_i = \"type HW\"\n",
    "group_j = \"type HW\""
   ]
  },
  {
   "cell_type": "code",
   "execution_count": 6,
   "metadata": {},
   "outputs": [
    {
     "data": {
      "text/plain": [
       "<AtomGroup with 800 atoms>"
      ]
     },
     "execution_count": 6,
     "metadata": {},
     "output_type": "execute_result"
    }
   ],
   "source": [
    "u.atoms.select_atoms(group_i)"
   ]
  },
  {
   "cell_type": "code",
   "execution_count": 7,
   "metadata": {},
   "outputs": [],
   "source": [
    "analysis = \"full\""
   ]
  },
  {
   "cell_type": "code",
   "execution_count": 10,
   "metadata": {},
   "outputs": [],
   "source": [
    "n_i = 0"
   ]
  },
  {
   "cell_type": "code",
   "execution_count": 11,
   "metadata": {},
   "outputs": [],
   "source": [
    "nmr_result = NMR.NMR(u, group_i, group_j, analysis, n_i, \"m0\")"
   ]
  },
  {
   "cell_type": "code",
   "execution_count": 12,
   "metadata": {},
   "outputs": [
    {
     "name": "stdout",
     "output_type": "stream",
     "text": [
      "NMR relaxation time T1 = 2.58 s\n",
      "NMR relaxation time  T2 = 2.58 s\n",
      "Correlation time = 3.75 ps\n"
     ]
    }
   ],
   "source": [
    "T1 = np.round(nmr_result.T1,2)\n",
    "print(f\"NMR relaxation time T1 = {T1} s\")\n",
    "T2 = np.round(nmr_result.T2,2)\n",
    "print(f\"NMR relaxation time  T2 = {T2} s\")\n",
    "tau = np.round(nmr_result.tau,2)\n",
    "print(f\"Correlation time = {tau} ps\")"
   ]
  },
  {
   "cell_type": "code",
   "execution_count": 17,
   "metadata": {},
   "outputs": [
    {
     "data": {
      "text/plain": [
       "[<matplotlib.lines.Line2D at 0x7fca1cbe24c0>]"
      ]
     },
     "execution_count": 17,
     "metadata": {},
     "output_type": "execute_result"
    },
    {
     "data": {
      "image/png": "[encoded data removed]",
      "text/plain": [
       "<Figure size 432x288 with 1 Axes>"
      ]
     },
     "metadata": {
      "needs_background": "light"
     },
     "output_type": "display_data"
    }
   ],
   "source": [
    "plt.loglog(nmr_result.f,1/nmr_result.R1,'.')"
   ]
  },
  {
   "cell_type": "code",
   "execution_count": 22,
   "metadata": {},
   "outputs": [],
   "source": [
    "np.savetxt(\"data.dat\", np.vstack([nmr_result.f,1/nmr_result.R1]).T)"
   ]
  },
  {
   "cell_type": "code",
   "execution_count": null,
   "metadata": {},
   "outputs": [],
   "source": []
  }
 ],
 "metadata": {
  "kernelspec": {
   "display_name": "Python 3",
   "language": "python",
   "name": "python3"
  },
  "language_info": {
   "codemirror_mode": {
    "name": "ipython",
    "version": 3
   },
   "file_extension": ".py",
   "mimetype": "text/x-python",
   "name": "python",
   "nbconvert_exporter": "python",
   "pygments_lexer": "ipython3",
   "version": "3.8.10"
  }
 },
 "nbformat": 4,
 "nbformat_minor": 4
}
